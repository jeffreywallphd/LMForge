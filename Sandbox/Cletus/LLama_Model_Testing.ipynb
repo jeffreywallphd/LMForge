{
 "cells": [
  {
   "cell_type": "code",
   "execution_count": 1,
   "metadata": {},
   "outputs": [
    {
     "name": "stdout",
     "output_type": "stream",
     "text": [
      "True\n",
      "1\n",
      "NVIDIA RTX 5000 Ada Generation\n"
     ]
    }
   ],
   "source": [
    "import torch\n",
    "print(torch.cuda.is_available())  # Should return True\n",
    "print(torch.cuda.device_count())  # Should return the number of GPUs\n",
    "print(torch.cuda.get_device_name(0))  # Should show the GPU model"
   ]
  },
  {
   "cell_type": "code",
   "execution_count": null,
   "metadata": {},
   "outputs": [],
   "source": [
    "import transformers\n",
    "import torch\n",
    "import os\n",
    "import json\n",
    "from huggingface_hub import login\n",
    "from transformers import AutoTokenizer, AutoModelForCausalLM\n",
    "import logging\n",
    "import time\n",
    "from datetime import timedelta, datetime\n",
    "import pandas as pd\n",
    "from dotenv import load_dotenv\n",
    "import shutil \n",
    "\n",
    "import evaluate\n",
    "from sentence_transformers import SentenceTransformer, util\n",
    "import numpy as np\n",
    "\n",
    "# Load environment variables\n",
    "load_dotenv(dotenv_path=\"../../.env\") # path is relative to this script, adjust as needed\n",
    "\n",
    "run_id = \"LMForge_RUN01\"  # <- Change this manually for each experiment\n",
    "batch_size = 10  # <- Change this manually for each experiment"
   ]
  },
  {
   "cell_type": "code",
   "execution_count": 3,
   "metadata": {},
   "outputs": [],
   "source": [
    "import logging\n",
    "logging.basicConfig(filename='generation.log', level=logging.INFO)\n",
    "logging.info(f\"Run ID: {run_id}\")"
   ]
  },
  {
   "cell_type": "code",
   "execution_count": 4,
   "metadata": {},
   "outputs": [
    {
     "name": "stdout",
     "output_type": "stream",
     "text": [
      "HF_HOME: D:/huggingface_cache\n",
      "TRANSFORMERS_CACHE: D:/huggingface_cache\n",
      "HUGGINGFACE_HUB_CACHE: D:/huggingface_cache\n"
     ]
    }
   ],
   "source": [
    "# setting huggingface token\n",
    "login(token=os.getenv(\"HUGGINGFACE_TOKEN\"))\n",
    "\n",
    "os.environ[\"HF_HOME\"] = \"D:/huggingface_cache\" \n",
    "os.environ[\"TRANSFORMERS_CACHE\"] = \"D:/huggingface_cache\"\n",
    "os.environ[\"HUGGINGFACE_HUB_CACHE\"] = \"D:/huggingface_cache\"\n",
    "\n",
    "print(\"HF_HOME:\", os.getenv(\"HF_HOME\"))\n",
    "print(\"TRANSFORMERS_CACHE:\", os.getenv(\"TRANSFORMERS_CACHE\"))\n",
    "print(\"HUGGINGFACE_HUB_CACHE:\", os.getenv(\"HUGGINGFACE_HUB_CACHE\"))\n",
    "\n",
    "transformers.utils.hub.TRANSFORMERS_CACHE = \"D:/huggingface_cache\""
   ]
  },
  {
   "cell_type": "code",
   "execution_count": 5,
   "metadata": {},
   "outputs": [
    {
     "data": {
      "application/vnd.jupyter.widget-view+json": {
       "model_id": "3e66a7c72f9542c5be6a16da1f429282",
       "version_major": 2,
       "version_minor": 0
      },
      "text/plain": [
       "Downloading shards:   0%|          | 0/4 [00:00<?, ?it/s]"
      ]
     },
     "metadata": {},
     "output_type": "display_data"
    },
    {
     "data": {
      "application/vnd.jupyter.widget-view+json": {
       "model_id": "b7723f28ece0472ea5763243f336440f",
       "version_major": 2,
       "version_minor": 0
      },
      "text/plain": [
       "Loading checkpoint shards:   0%|          | 0/4 [00:00<?, ?it/s]"
      ]
     },
     "metadata": {},
     "output_type": "display_data"
    }
   ],
   "source": [
    "model_name = \"meta-llama/Meta-Llama-3-8B\"\n",
    "\n",
    "tokenizer = AutoTokenizer.from_pretrained(model_name)\n",
    "model = AutoModelForCausalLM.from_pretrained(model_name, torch_dtype=torch.float16, device_map=\"cuda\")\n"
   ]
  },
  {
   "cell_type": "code",
   "execution_count": null,
   "metadata": {},
   "outputs": [],
   "source": [
    "chunk_sizes = [128, 256, 512, 1024]\n",
    "questions_num = 2\n",
    "max_token_list = [128,256,512,1024,2048]\n"
   ]
  },
  {
   "cell_type": "code",
   "execution_count": 7,
   "metadata": {},
   "outputs": [],
   "source": [
    "results_df = pd.DataFrame(columns=[\n",
    "    \"chunk_size\", \"questions_num\", \"qa_count_mismatch\", \"total_questions\", \"token_Size\",\n",
    "    \"total_chunks\", \"success_count\", \"fail_count\",\n",
    "    \"elapsed_time\"\n",
    "])"
   ]
  },
  {
   "cell_type": "code",
   "execution_count": 8,
   "metadata": {},
   "outputs": [],
   "source": [
    "def power_analysis(chunk_size, max_tokens, qa_results,substring_date,elapsed_time):\n",
    "    \"\"\"\n",
    "    Perform power analysis based on the provided parameters for the current run.\n",
    "    \"\"\"\n",
    "    \n",
    "    # https://huggingface.co/spaces/evaluate-metric/bertscore\n",
    "    # https://huggingface.co/tasks/sentence-similarity\n",
    "    # 1 Metric: ROUGE\n",
    "    rouge = evaluate.load(\"rouge\")\n",
    "\n",
    "    originals = []\n",
    "    generations = []\n",
    "\n",
    "    for doc in qa_results.values():\n",
    "        for item in doc:\n",
    "            chunk = item[\"chunk\"]\n",
    "            qa = item[\"qa_pairs\"]\n",
    "            for pair in qa:\n",
    "                originals.append(chunk)  # reference\n",
    "                generations.append(pair[\"answer\"])  # model-generated answer\n",
    "\n",
    "    scores = rouge.compute(predictions=generations, references=originals)\n",
    "    print(f\"ROUGE Scores: {scores}\")\n",
    "\n",
    "    # 2 Metric: BERTScore\n",
    "    bertscore = evaluate.load(\"bertscore\")\n",
    "    bert_scores = bertscore.compute(predictions=generations, references=originals, model_type=\"bert-base-uncased\", lang=\"en\")\n",
    "    P = bert_scores[\"precision\"]\n",
    "    R = bert_scores[\"recall\"]\n",
    "    F1 = bert_scores[\"f1\"] \n",
    "\n",
    "    print(f\"BERTScore: {bert_scores}\")\n",
    "\n",
    "    # 3 Metric: STS (Semantic Textual Similarity)\n",
    "    sts_model = SentenceTransformer('sentence-transformers/all-MiniLM-L6-v2')\n",
    "    original_embeddings = sts_model.encode(originals, convert_to_tensor=True) \n",
    "    generated_embeddings = sts_model.encode(generations, convert_to_tensor=True)\n",
    "    sts_scores = util.pytorch_cos_sim(original_embeddings, generated_embeddings).diagonal().cpu().tolist()\n",
    "\n",
    "    print(f\"STS Scores: {sts_scores}\")\n",
    "\n",
    "    # save the scores to a CSV file\n",
    "    scores_df = pd.DataFrame({\n",
    "        \"chunk_size\": [chunk_size],\n",
    "        \"max_tokens\": [max_tokens],\n",
    "        \"questions_num\": [questions_num],\n",
    "        \"rouge1\": [scores[\"rouge1\"]],\n",
    "        \"rouge2\": [scores[\"rouge2\"]],\n",
    "        \"rougeL\": [scores[\"rougeL\"]],\n",
    "        \"rougeLsum\": [scores[\"rougeLsum\"]],\n",
    "        \"bert_score_P\": [np.mean(P)],\n",
    "        \"bert_score_R\": [np.mean(R)],\n",
    "        \"bert_score_F1\": [np.mean(F1)],\n",
    "        \"sts_score\": [np.mean(sts_scores)],\n",
    "        \"substring_date\": [substring_date],\n",
    "        \"elapsed_time\": [elapsed_time],\n",
    "    })\n",
    "    \n",
    "    print(\"Scores saved to scores.csv\")   \n",
    "    return scores_df"
   ]
  },
  {
   "cell_type": "markdown",
   "metadata": {},
   "source": [
    "# Convert logs to Panda\n"
   ]
  },
  {
   "cell_type": "code",
   "execution_count": 9,
   "metadata": {},
   "outputs": [],
   "source": [
    "def build_prompt(chunk, questions_num):\n",
    "    return f\"\"\"\n",
    "Generate {questions_num} question-answer pairs based on the following text segment. \n",
    "Return the result in valid JSON format as a list of objects.\n",
    "\n",
    "Text Segment:\n",
    "\n",
    "{chunk}\n",
    "\n",
    "Response Format:\n",
    "[\n",
    "    {{\"question\": \"generated question\", \"answer\": \"generated Answer\"}},\n",
    "]\n",
    "\n",
    "Question answers should be at least 250 words long.\n",
    "\n",
    "Do NOT include any explanation or preamble before or after the JSON output.\n",
    "Return ONLY valid JSON output.\n",
    "\n",
    "Answer:\n",
    "    \"\"\""
   ]
  },
  {
   "cell_type": "code",
   "execution_count": 10,
   "metadata": {},
   "outputs": [],
   "source": [
    "def load_data(chunk_size):\n",
    "    path = f\"../Yaman/Generate_Paragraphs/Results/extracted_chunks_{chunk_size}_overlap.json\"\n",
    "    if not os.path.exists(path):\n",
    "        print(f\"Missing input file: {path}, skipping.\")\n",
    "        return None\n",
    "    with open(path, \"r\", encoding=\"utf-8\") as file:\n",
    "        return json.load(file)"
   ]
  },
  {
   "cell_type": "code",
   "execution_count": null,
   "metadata": {},
   "outputs": [
    {
     "name": "stdout",
     "output_type": "stream",
     "text": [
      "Skipping Documents/Legal Aspects of Corporate Management and Finance.pdf (already processed)\n",
      "Skipping Documents/PrinciplesofFinance-WEB.pdf (already processed)\n",
      "Completed 128, 128 | Time: 0:00:00.004834\n",
      "ROUGE Scores: {'rouge1': np.float64(0.22768143136308183), 'rouge2': np.float64(0.1986982166713856), 'rougeL': np.float64(0.2196954108595967), 'rougeLsum': np.float64(0.22744159433562666)}\n",
      "BERTScore: {'precision': [0.7542778253555298, 0.8928864002227783, 0.9177285432815552, 0.9309979677200317, 0.3626405596733093, 0.8095188736915588, 0.8617736101150513, 0.7373661398887634, 0.8535213470458984, 0.6502818465232849], 'recall': [0.46438899636268616, 0.5439376831054688, 0.49342337250709534, 0.548050582408905, 0.20234012603759766, 0.3511466383934021, 0.6328124403953552, 0.23346596956253052, 0.373320609331131, 0.2681533396244049], 'f1': [0.5748549699783325, 0.6760389804840088, 0.6417859196662903, 0.6899489760398865, 0.25974953174591064, 0.489822119474411, 0.7297553420066833, 0.3546440005302429, 0.5194427967071533, 0.3797224760055542], 'hashcode': 'bert-base-uncased_L9_no-idf_version=0.3.12(hug_trans=4.49.0)'}\n"
     ]
    },
    {
     "data": {
      "application/vnd.jupyter.widget-view+json": {
       "model_id": "5e53818da5424e35b904266c8d88d2a2",
       "version_major": 2,
       "version_minor": 0
      },
      "text/plain": [
       "Batches:   0%|          | 0/1 [00:00<?, ?it/s]"
      ]
     },
     "metadata": {},
     "output_type": "display_data"
    },
    {
     "data": {
      "application/vnd.jupyter.widget-view+json": {
       "model_id": "fe9211259169463da9869fa009bebdc8",
       "version_major": 2,
       "version_minor": 0
      },
      "text/plain": [
       "Batches:   0%|          | 0/1 [00:00<?, ?it/s]"
      ]
     },
     "metadata": {},
     "output_type": "display_data"
    },
    {
     "name": "stderr",
     "output_type": "stream",
     "text": [
      "Setting `pad_token_id` to `eos_token_id`:128001 for open-end generation.\n"
     ]
    },
    {
     "name": "stdout",
     "output_type": "stream",
     "text": [
      "STS Scores: [0.5261255502700806, 0.6429171562194824, 0.6943730711936951, 0.6233592629432678, 0.09555361419916153, 0.06487224996089935, 0.7698000073432922, 0.6236393451690674, 0.5759603381156921, 0.45711439847946167]\n",
      "Scores saved to scores.csv\n"
     ]
    },
    {
     "name": "stderr",
     "output_type": "stream",
     "text": [
      "Setting `pad_token_id` to `eos_token_id`:128001 for open-end generation.\n",
      "Setting `pad_token_id` to `eos_token_id`:128001 for open-end generation.\n",
      "Setting `pad_token_id` to `eos_token_id`:128001 for open-end generation.\n",
      "Setting `pad_token_id` to `eos_token_id`:128001 for open-end generation.\n"
     ]
    },
    {
     "name": "stdout",
     "output_type": "stream",
     "text": [
      "Error processing chunk from Documents/Legal Aspects of Corporate Management and Finance.pdf: Extra data: line 4 column 7 (char 411)\n"
     ]
    },
    {
     "name": "stderr",
     "output_type": "stream",
     "text": [
      "Setting `pad_token_id` to `eos_token_id`:128001 for open-end generation.\n"
     ]
    },
    {
     "name": "stdout",
     "output_type": "stream",
     "text": [
      "Error processing chunk from Documents/Legal Aspects of Corporate Management and Finance.pdf: Unterminated string starting at: line 8 column 24 (char 1103)\n"
     ]
    },
    {
     "name": "stderr",
     "output_type": "stream",
     "text": [
      "Setting `pad_token_id` to `eos_token_id`:128001 for open-end generation.\n",
      "Setting `pad_token_id` to `eos_token_id`:128001 for open-end generation.\n",
      "Setting `pad_token_id` to `eos_token_id`:128001 for open-end generation.\n",
      "Setting `pad_token_id` to `eos_token_id`:128001 for open-end generation.\n",
      "Setting `pad_token_id` to `eos_token_id`:128001 for open-end generation.\n"
     ]
    },
    {
     "name": "stdout",
     "output_type": "stream",
     "text": [
      "Error processing chunk from Documents/Legal Aspects of Corporate Management and Finance.pdf: Expecting ',' delimiter: line 8 column 88 (char 816)\n",
      "Checkpoint saved at chunk 10\n",
      "Saved full doc: Documents/Legal Aspects of Corporate Management and Finance.pdf\n"
     ]
    },
    {
     "name": "stderr",
     "output_type": "stream",
     "text": [
      "Setting `pad_token_id` to `eos_token_id`:128001 for open-end generation.\n",
      "Setting `pad_token_id` to `eos_token_id`:128001 for open-end generation.\n",
      "Setting `pad_token_id` to `eos_token_id`:128001 for open-end generation.\n",
      "Setting `pad_token_id` to `eos_token_id`:128001 for open-end generation.\n",
      "Setting `pad_token_id` to `eos_token_id`:128001 for open-end generation.\n",
      "Setting `pad_token_id` to `eos_token_id`:128001 for open-end generation.\n",
      "Setting `pad_token_id` to `eos_token_id`:128001 for open-end generation.\n"
     ]
    },
    {
     "name": "stdout",
     "output_type": "stream",
     "text": [
      "Error processing chunk from Documents/PrinciplesofFinance-WEB.pdf: Expecting value: line 1 column 1 (char 0)\n"
     ]
    },
    {
     "name": "stderr",
     "output_type": "stream",
     "text": [
      "Setting `pad_token_id` to `eos_token_id`:128001 for open-end generation.\n",
      "Setting `pad_token_id` to `eos_token_id`:128001 for open-end generation.\n"
     ]
    },
    {
     "name": "stdout",
     "output_type": "stream",
     "text": [
      "Error processing chunk from Documents/PrinciplesofFinance-WEB.pdf: Unterminated string starting at: line 8 column 15 (char 911)\n",
      "Checkpoint saved at chunk 20\n",
      "Saved full doc: Documents/PrinciplesofFinance-WEB.pdf\n",
      "Completed 128, 256 | Time: 0:02:08.294770\n",
      "ROUGE Scores: {'rouge1': np.float64(0.3169242828976331), 'rouge2': np.float64(0.200427493143871), 'rougeL': np.float64(0.2571964726491008), 'rougeLsum': np.float64(0.2933512608066212)}\n",
      "BERTScore: {'precision': [0.8699758648872375, 0.6868507862091064, 0.8929926753044128, 0.8658551573753357, 0.8658551573753357, 0.5205907821655273, 0.5205907821655273, 0.8298916816711426, 0.8202993273735046, 0.47344711422920227, 0.47344711422920227, 0.8002792000770569, 0.776704728603363, 0.7988606691360474, 0.5249338150024414, 0.5249338150024414, 0.8095188140869141, 0.8038550615310669, 0.5827478170394897, 0.5827478170394897, 0.605720579624176, 0.4445416331291199, 0.48757031559944153, 0.8029179573059082, 0.8029179573059082], 'recall': [0.44749805331230164, 0.31051480770111084, 0.5244700908660889, 0.7134119272232056, 0.7134119272232056, 0.4942232668399811, 0.4942232370376587, 0.5815338492393494, 0.5796209573745728, 0.4042556881904602, 0.4042556881904602, 0.7232828140258789, 0.6542994976043701, 0.7402911186218262, 0.35848140716552734, 0.35848140716552734, 0.3511466383934021, 0.34934157133102417, 0.5106979012489319, 0.5106979608535767, 0.24711796641349792, 0.3696805238723755, 0.385530561208725, 0.5157462358474731, 0.5157462358474731], 'f1': [0.5909984111785889, 0.4276813566684723, 0.6608257293701172, 0.7822760939598083, 0.7822760939598083, 0.5070644617080688, 0.5070644617080688, 0.6838619112968445, 0.6792711019515991, 0.43612411618232727, 0.43612411618232727, 0.7598354816436768, 0.7102668881416321, 0.7684615254402161, 0.42602619528770447, 0.42602619528770447, 0.4898220896720886, 0.4870288074016571, 0.5443490147590637, 0.5443490743637085, 0.3510264754295349, 0.4036696255207062, 0.4305877387523651, 0.6280627250671387, 0.6280627250671387], 'hashcode': 'bert-base-uncased_L9_no-idf_version=0.3.12(hug_trans=4.49.0)'}\n"
     ]
    },
    {
     "data": {
      "application/vnd.jupyter.widget-view+json": {
       "model_id": "dae5fc447ce2426bb28638cd130d5bb0",
       "version_major": 2,
       "version_minor": 0
      },
      "text/plain": [
       "Batches:   0%|          | 0/1 [00:00<?, ?it/s]"
      ]
     },
     "metadata": {},
     "output_type": "display_data"
    },
    {
     "data": {
      "application/vnd.jupyter.widget-view+json": {
       "model_id": "98ebf90121b641b2ac58aae487948c2c",
       "version_major": 2,
       "version_minor": 0
      },
      "text/plain": [
       "Batches:   0%|          | 0/1 [00:00<?, ?it/s]"
      ]
     },
     "metadata": {},
     "output_type": "display_data"
    },
    {
     "name": "stdout",
     "output_type": "stream",
     "text": [
      "STS Scores: [0.5911870002746582, 0.4306086301803589, 0.8253427743911743, 0.8711255192756653, 0.8711255192756653, 0.5775895714759827, 0.5775895714759827, 0.6990444660186768, 0.7407663464546204, 0.5727581977844238, 0.5727581977844238, 0.9172813296318054, 0.8802528381347656, 0.9165865182876587, 0.4525867700576782, 0.4525867700576782, 0.064872145652771, 0.04778534546494484, 0.6334748268127441, 0.6334748268127441, 0.41022366285324097, 0.5081772804260254, 0.5371994376182556, 0.6609009504318237, 0.6609009504318237]\n",
      "Scores saved to scores.csv\n",
      "\n",
      "Summary saved to LMForge_RUN02/Generated_Results/LLAMA3_1/qa_generation_results_summary.csv\n"
     ]
    }
   ],
   "source": [
    "# Set up device\n",
    "device = torch.device(\"cuda\" if torch.cuda.is_available() else \"cpu\")\n",
    "model.to(device)\n",
    "\n",
    "# check if base directory exists, if not create it\n",
    "if not os.path.exists(run_id):\n",
    "    os.makedirs(run_id)\n",
    "# Constants\n",
    "check_point_path = f\"{run_id}/qa_run_tracker.csv\"\n",
    "output_base = f\"{run_id}/Generated_Results/LLAMA3_1\"\n",
    "\n",
    "# Initialize tracker CSV if not present\n",
    "if not os.path.exists(check_point_path):\n",
    "    tracker_df = pd.DataFrame(columns=[\"chunk_size\", \"max_tokens\", \"questions_num\", \"completed\"])\n",
    "    for chunk_size in chunk_sizes:\n",
    "        for max_tokens in max_token_list:\n",
    "            tracker_df.loc[len(tracker_df)] = [chunk_size, max_tokens, questions_num, False]\n",
    "    tracker_df.to_csv(check_point_path, index=False)\n",
    "else:\n",
    "    tracker_df = pd.read_csv(check_point_path)\n",
    "\n",
    "# Results summary\n",
    "results_df = pd.DataFrame(columns=[\n",
    "    \"chunk_size\", \"questions_num\", \"qa_count_mismatch\", \"total_questions\",\n",
    "    \"max_tokens\", \"total_chunks\", \"success_count\", \"fail_count\", \"repeat_count\",\n",
    "    \"duplicate_count\", \"elapsed_time\"\n",
    "])\n",
    "\n",
    "for chunk_size in chunk_sizes:\n",
    "    chunk_data = load_data(chunk_size)\n",
    "\n",
    "    for max_tokens in max_token_list:\n",
    "        row_match = (\n",
    "            (tracker_df[\"chunk_size\"] == chunk_size) &\n",
    "            (tracker_df[\"max_tokens\"] == max_tokens) &\n",
    "            (tracker_df[\"questions_num\"] == questions_num)\n",
    "        )\n",
    "\n",
    "        if tracker_df.loc[row_match, \"completed\"].any():\n",
    "            print(f\"Skipping chunk_size={chunk_size}, max_tokens={max_tokens} (already completed)\")\n",
    "            continue\n",
    "\n",
    "        output_file_path = f\"{output_base}/generation_log_{chunk_size}_Token_{max_tokens}_Q{questions_num}.json\"\n",
    "\n",
    "        # Load existing results if file exists\n",
    "        if os.path.exists(output_file_path):\n",
    "            try:\n",
    "                with open(output_file_path, \"r\", encoding=\"utf-8\") as f:\n",
    "                    qa_results = json.load(f)\n",
    "            except json.JSONDecodeError:\n",
    "                print(\"Warning: Output file is corrupted. Starting fresh.\")\n",
    "                qa_results = {}\n",
    "        else:\n",
    "            # Create the output directory if it doesn't exist\n",
    "            os.makedirs(os.path.dirname(output_file_path), exist_ok=True)\n",
    "            qa_results = {}\n",
    "\n",
    "        # Trackers\n",
    "        total_chunks = 0\n",
    "        success_count = 0\n",
    "        fail_count = 0\n",
    "        total_questions = 0\n",
    "        qa_count_mismatch = 0\n",
    "        repeat_count = 0\n",
    "        duplicate_count = 0\n",
    "        chunk_counter = 0\n",
    "\n",
    "        start_time = time.time()\n",
    "\n",
    "        for doc_name, chunks in chunk_data.items():\n",
    "            if doc_name in qa_results and qa_results[doc_name]:\n",
    "                print(f\"Skipping {doc_name} (already processed)\")\n",
    "                continue\n",
    "\n",
    "            qa_results[doc_name] = []\n",
    "\n",
    "            for chunk in chunks[:1000]:  # Adjust slice as needed\n",
    "                total_chunks += 1\n",
    "                chunk_counter += 1\n",
    "                prompt = build_prompt(chunk, questions_num)\n",
    "                try:\n",
    "                    inputs = tokenizer(prompt, return_tensors=\"pt\").to(device)\n",
    "                    with torch.no_grad():\n",
    "                        output_tokens = model.generate(**inputs, max_new_tokens=max_tokens,pad_token_id=tokenizer.eos_token_id)\n",
    "                    generated_tokens = output_tokens[0][len(inputs[\"input_ids\"][0]):]\n",
    "                    generated_text = tokenizer.decode(generated_tokens, skip_special_tokens=True)\n",
    "                    qa_pairs = json.loads(generated_text)\n",
    "\n",
    "                    if isinstance(qa_pairs, list):\n",
    "                        qa_results[doc_name].append({\n",
    "                            \"chunk\": chunk,\n",
    "                            \"qa_pairs\": qa_pairs\n",
    "                        })\n",
    "                        success_count += 1\n",
    "                        total_questions += len(qa_pairs)\n",
    "\n",
    "                        if len(qa_pairs) != questions_num:\n",
    "                            qa_count_mismatch += 1\n",
    "                        \n",
    "                        #  question and answer are the same\n",
    "                        for pair in qa_pairs:\n",
    "                            if pair[\"question\"] == pair[\"answer\"]:\n",
    "                                repeat_count += 1\n",
    "                            # check for duplicates in the same chunk\n",
    "                            if any(pair[\"question\"] == p[\"question\"] for p in qa_pairs if p != pair):\n",
    "                                duplicate_count += 1\n",
    "                    else:\n",
    "                        fail_count += 1\n",
    "\n",
    "                except Exception as e:\n",
    "                    print(f\"Error processing chunk from {doc_name}: {e}\")\n",
    "                    fail_count += 1\n",
    "\n",
    "                # Save every batch_size chunks\n",
    "                if chunk_counter % batch_size == 0:\n",
    "                    with open(output_file_path, \"w\", encoding=\"utf-8\") as out_file:\n",
    "                        json.dump(qa_results, out_file, indent=4, ensure_ascii=False)\n",
    "                    print(f\"Checkpoint saved at chunk {chunk_counter}\")\n",
    "\n",
    "            # Save after each document\n",
    "            with open(output_file_path, \"w\", encoding=\"utf-8\") as out_file:\n",
    "                json.dump(qa_results, out_file, indent=4, ensure_ascii=False)\n",
    "            print(f\"Saved full doc: {doc_name}\")\n",
    "\n",
    "        # Final save\n",
    "        end_time = time.time()\n",
    "        elapsed_time = timedelta(seconds=end_time - start_time)\n",
    "\n",
    "        results_df.loc[len(results_df)] = [\n",
    "            chunk_size, questions_num, qa_count_mismatch, total_questions,\n",
    "            max_tokens, total_chunks, success_count, fail_count, repeat_count,\n",
    "            duplicate_count, str(elapsed_time)\n",
    "        ]\n",
    "\n",
    "        print(f\"Completed {chunk_size}, {max_tokens} | Time: {elapsed_time}\")\n",
    "\n",
    "        # Update tracker\n",
    "        tracker_df.loc[row_match, \"completed\"] = True\n",
    "        tracker_df.to_csv(check_point_path, index=False)\n",
    "        \n",
    "        scores_df = power_analysis(chunk_size, max_tokens, qa_results,run_id,elapsed_time)\n",
    "        if os.path.exists(f\"{output_base}/scores.csv\"):\n",
    "            scores_df.to_csv(f\"{output_base}/scores.csv\", mode='a', header=False, index=False)\n",
    "        else:\n",
    "            os.makedirs(f\"{output_base}/scores\", exist_ok=True)\n",
    "            scores_df.to_csv(f\"{output_base}/scores.csv\", index=False)\n",
    "\n",
    "# Save summary CSV\n",
    "csv_output_path = f\"{output_base}/qa_generation_results_summary.csv\"\n",
    "results_df.to_csv(csv_output_path, index=False)\n",
    "print(f\"\\nSummary saved to {csv_output_path}\")\n"
   ]
  },
  {
   "cell_type": "code",
   "execution_count": null,
   "metadata": {},
   "outputs": [],
   "source": []
  }
 ],
 "metadata": {
  "kernelspec": {
   "display_name": "llm-forge",
   "language": "python",
   "name": "python3"
  },
  "language_info": {
   "codemirror_mode": {
    "name": "ipython",
    "version": 3
   },
   "file_extension": ".py",
   "mimetype": "text/x-python",
   "name": "python",
   "nbconvert_exporter": "python",
   "pygments_lexer": "ipython3",
   "version": "3.10.16"
  }
 },
 "nbformat": 4,
 "nbformat_minor": 4
}
