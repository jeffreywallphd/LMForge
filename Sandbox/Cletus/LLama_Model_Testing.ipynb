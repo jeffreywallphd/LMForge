{
 "cells": [
  {
   "cell_type": "code",
   "execution_count": 98,
   "metadata": {},
   "outputs": [
    {
     "name": "stdout",
     "output_type": "stream",
     "text": [
      "True\n",
      "1\n",
      "NVIDIA RTX 5000 Ada Generation\n"
     ]
    }
   ],
   "source": [
    "import torch\n",
    "print(torch.cuda.is_available())  # Should return True\n",
    "print(torch.cuda.device_count())  # Should return the number of GPUs\n",
    "print(torch.cuda.get_device_name(0))  # Should show the GPU model"
   ]
  },
  {
   "cell_type": "code",
   "execution_count": null,
   "metadata": {},
   "outputs": [],
   "source": [
    "import transformers\n",
    "import torch\n",
    "import os\n",
    "import json\n",
    "from huggingface_hub import login\n",
    "from transformers import AutoTokenizer, AutoModelForCausalLM\n",
    "import logging\n",
    "import time\n",
    "from datetime import timedelta, datetime\n",
    "import pandas as pd\n",
    "from dotenv import load_dotenv\n",
    "import shutil \n",
    "\n",
    "import evaluate\n",
    "from sentence_transformers import SentenceTransformer, util\n",
    "import numpy as np\n",
    "\n",
    "# Load environment variables\n",
    "load_dotenv(dotenv_path=\"../../.env\") # path is relative to this script, adjust as needed\n",
    "\n",
    "run_id = \"LMForge_RUN01\"  # <- Change this manually for each experiment\n",
    "batch_size = 10  # <- Change this manually for each experiment"
   ]
  },
  {
   "cell_type": "code",
   "execution_count": 100,
   "metadata": {},
   "outputs": [],
   "source": [
    "import logging\n",
    "logging.basicConfig(filename='generation.log', level=logging.INFO)\n",
    "logging.info(f\"Run ID: {run_id}\")"
   ]
  },
  {
   "cell_type": "code",
   "execution_count": 101,
   "metadata": {},
   "outputs": [
    {
     "name": "stdout",
     "output_type": "stream",
     "text": [
      "HF_HOME: D:/huggingface_cache\n",
      "TRANSFORMERS_CACHE: D:/huggingface_cache\n",
      "HUGGINGFACE_HUB_CACHE: D:/huggingface_cache\n"
     ]
    }
   ],
   "source": [
    "# setting huggingface token\n",
    "login(token=os.getenv(\"HUGGINGFACE_TOKEN\"))\n",
    "\n",
    "os.environ[\"HF_HOME\"] = \"D:/huggingface_cache\" \n",
    "os.environ[\"TRANSFORMERS_CACHE\"] = \"D:/huggingface_cache\"\n",
    "os.environ[\"HUGGINGFACE_HUB_CACHE\"] = \"D:/huggingface_cache\"\n",
    "\n",
    "print(\"HF_HOME:\", os.getenv(\"HF_HOME\"))\n",
    "print(\"TRANSFORMERS_CACHE:\", os.getenv(\"TRANSFORMERS_CACHE\"))\n",
    "print(\"HUGGINGFACE_HUB_CACHE:\", os.getenv(\"HUGGINGFACE_HUB_CACHE\"))\n",
    "\n",
    "transformers.utils.hub.TRANSFORMERS_CACHE = \"D:/huggingface_cache\""
   ]
  },
  {
   "cell_type": "code",
   "execution_count": 102,
   "metadata": {},
   "outputs": [
    {
     "data": {
      "application/vnd.jupyter.widget-view+json": {
       "model_id": "7b862b4c7ef64249bb85c4c1d7dbf9ed",
       "version_major": 2,
       "version_minor": 0
      },
      "text/plain": [
       "Downloading shards:   0%|          | 0/4 [00:00<?, ?it/s]"
      ]
     },
     "metadata": {},
     "output_type": "display_data"
    },
    {
     "data": {
      "application/vnd.jupyter.widget-view+json": {
       "model_id": "b50b6654dc29440f91358fbeb7ad34f4",
       "version_major": 2,
       "version_minor": 0
      },
      "text/plain": [
       "Loading checkpoint shards:   0%|          | 0/4 [00:00<?, ?it/s]"
      ]
     },
     "metadata": {},
     "output_type": "display_data"
    }
   ],
   "source": [
    "model_name = \"meta-llama/Meta-Llama-3-8B\"\n",
    "\n",
    "tokenizer = AutoTokenizer.from_pretrained(model_name)\n",
    "model = AutoModelForCausalLM.from_pretrained(model_name, torch_dtype=torch.float16, device_map=\"cuda\")\n"
   ]
  },
  {
   "cell_type": "code",
   "execution_count": 103,
   "metadata": {},
   "outputs": [],
   "source": [
    "chunk_sizes = [128]\n",
    "questions_num = 2\n",
    "max_token_list = [128,256]\n"
   ]
  },
  {
   "cell_type": "code",
   "execution_count": 104,
   "metadata": {},
   "outputs": [],
   "source": [
    "results_df = pd.DataFrame(columns=[\n",
    "    \"chunk_size\", \"questions_num\", \"qa_count_mismatch\", \"total_questions\", \"token_Size\",\n",
    "    \"total_chunks\", \"success_count\", \"fail_count\",\n",
    "    \"elapsed_time\"\n",
    "])"
   ]
  },
  {
   "cell_type": "code",
   "execution_count": 105,
   "metadata": {},
   "outputs": [],
   "source": [
    "def power_analysis(chunk_size, max_tokens, qa_results,substring_date,elapsed_time):\n",
    "    \"\"\"\n",
    "    Perform power analysis based on the provided parameters for the current run.\n",
    "    \"\"\"\n",
    "    \n",
    "    # https://huggingface.co/spaces/evaluate-metric/bertscore\n",
    "    # https://huggingface.co/tasks/sentence-similarity\n",
    "    # 1 Metric: ROUGE\n",
    "    rouge = evaluate.load(\"rouge\")\n",
    "\n",
    "    originals = []\n",
    "    generations = []\n",
    "\n",
    "    for doc in qa_results.values():\n",
    "        for item in doc:\n",
    "            chunk = item[\"chunk\"]\n",
    "            qa = item[\"qa_pairs\"]\n",
    "            for pair in qa:\n",
    "                originals.append(chunk)  # reference\n",
    "                generations.append(pair[\"answer\"])  # model-generated answer\n",
    "\n",
    "    scores = rouge.compute(predictions=generations, references=originals)\n",
    "    print(f\"ROUGE Scores: {scores}\")\n",
    "\n",
    "    # 2 Metric: BERTScore\n",
    "    bertscore = evaluate.load(\"bertscore\")\n",
    "    bert_scores = bertscore.compute(predictions=generations, references=originals, model_type=\"bert-base-uncased\", lang=\"en\")\n",
    "    P = bert_scores[\"precision\"]\n",
    "    R = bert_scores[\"recall\"]\n",
    "    F1 = bert_scores[\"f1\"] \n",
    "\n",
    "    print(f\"BERTScore: {bert_scores}\")\n",
    "\n",
    "    # 3 Metric: STS (Semantic Textual Similarity)\n",
    "    sts_model = SentenceTransformer('sentence-transformers/all-MiniLM-L6-v2')\n",
    "    original_embeddings = sts_model.encode(originals, convert_to_tensor=True) \n",
    "    generated_embeddings = sts_model.encode(generations, convert_to_tensor=True)\n",
    "    sts_scores = util.pytorch_cos_sim(original_embeddings, generated_embeddings).diagonal().cpu().tolist()\n",
    "\n",
    "    print(f\"STS Scores: {sts_scores}\")\n",
    "\n",
    "    # save the scores to a CSV file\n",
    "    scores_df = pd.DataFrame({\n",
    "        \"chunk_size\": [chunk_size],\n",
    "        \"max_tokens\": [max_tokens],\n",
    "        \"questions_num\": [questions_num],\n",
    "        \"rouge1\": [scores[\"rouge1\"]],\n",
    "        \"rouge2\": [scores[\"rouge2\"]],\n",
    "        \"rougeL\": [scores[\"rougeL\"]],\n",
    "        \"rougeLsum\": [scores[\"rougeLsum\"]],\n",
    "        \"bert_score_P\": [np.mean(P)],\n",
    "        \"bert_score_R\": [np.mean(R)],\n",
    "        \"bert_score_F1\": [np.mean(F1)],\n",
    "        \"sts_score\": [np.mean(sts_scores)],\n",
    "        \"substring_date\": [substring_date],\n",
    "        \"elapsed_time\": [elapsed_time],\n",
    "    })\n",
    "    \n",
    "    print(\"Scores saved to scores.csv\")   \n",
    "    return scores_df"
   ]
  },
  {
   "cell_type": "markdown",
   "metadata": {},
   "source": [
    "# Convert logs to Panda\n"
   ]
  },
  {
   "cell_type": "code",
   "execution_count": 106,
   "metadata": {},
   "outputs": [],
   "source": [
    "def build_prompt(chunk, questions_num):\n",
    "    return f\"\"\"\n",
    "Generate {questions_num} question-answer pairs based on the following text segment. \n",
    "Return the result in valid JSON format as a list of objects.\n",
    "\n",
    "Text Segment:\n",
    "\n",
    "{chunk}\n",
    "\n",
    "Response Format:\n",
    "[\n",
    "    {{\"question\": \"generated question\", \"answer\": \"generated Answer\"}},\n",
    "]\n",
    "\n",
    "Question answers should be at least 250 words long.\n",
    "\n",
    "Do NOT include any explanation or preamble before or after the JSON output.\n",
    "Return ONLY valid JSON output.\n",
    "\n",
    "Answer:\n",
    "    \"\"\""
   ]
  },
  {
   "cell_type": "code",
   "execution_count": 107,
   "metadata": {},
   "outputs": [],
   "source": [
    "def load_data(chunk_size):\n",
    "    path = f\"../Yaman/Generate_Paragraphs/Results/extracted_chunks_{chunk_size}_overlap.json\"\n",
    "    if not os.path.exists(path):\n",
    "        print(f\"Missing input file: {path}, skipping.\")\n",
    "        return None\n",
    "    with open(path, \"r\", encoding=\"utf-8\") as file:\n",
    "        return json.load(file)"
   ]
  },
  {
   "cell_type": "code",
   "execution_count": 109,
   "metadata": {},
   "outputs": [
    {
     "name": "stdout",
     "output_type": "stream",
     "text": [
      "Skipping chunk_size=128, max_tokens=128 (already completed)\n",
      "Skipping chunk_size=128, max_tokens=256 (already completed)\n",
      "\n",
      "Summary saved to LMForge_RUN01/Generated_Results/LLAMA3_1/qa_generation_results_summary.csv\n"
     ]
    }
   ],
   "source": [
    "# Set up device\n",
    "device = torch.device(\"cuda\" if torch.cuda.is_available() else \"cpu\")\n",
    "model.to(device)\n",
    "\n",
    "# check if base directory exists, if not create it\n",
    "if not os.path.exists(run_id):\n",
    "    os.makedirs(run_id)\n",
    "# Constants\n",
    "check_point_path = f\"{run_id}/qa_run_tracker.csv\"\n",
    "output_base = f\"{run_id}/Generated_Results/LLAMA3_1\"\n",
    "\n",
    "# Initialize tracker CSV if not present\n",
    "if not os.path.exists(check_point_path):\n",
    "    tracker_df = pd.DataFrame(columns=[\"chunk_size\", \"max_tokens\", \"questions_num\", \"completed\"])\n",
    "    for chunk_size in chunk_sizes:\n",
    "        for max_tokens in max_token_list:\n",
    "            tracker_df.loc[len(tracker_df)] = [chunk_size, max_tokens, questions_num, False]\n",
    "    tracker_df.to_csv(check_point_path, index=False)\n",
    "else:\n",
    "    tracker_df = pd.read_csv(check_point_path)\n",
    "\n",
    "# Results summary\n",
    "results_df = pd.DataFrame(columns=[\n",
    "    \"chunk_size\", \"questions_num\", \"qa_count_mismatch\", \"total_questions\",\n",
    "    \"max_tokens\", \"total_chunks\", \"success_count\", \"fail_count\", \"elapsed_time\"\n",
    "])\n",
    "\n",
    "for chunk_size in chunk_sizes:\n",
    "    chunk_data = load_data(chunk_size)\n",
    "\n",
    "    for max_tokens in max_token_list:\n",
    "        row_match = (\n",
    "            (tracker_df[\"chunk_size\"] == chunk_size) &\n",
    "            (tracker_df[\"max_tokens\"] == max_tokens) &\n",
    "            (tracker_df[\"questions_num\"] == questions_num)\n",
    "        )\n",
    "\n",
    "        if tracker_df.loc[row_match, \"completed\"].any():\n",
    "            print(f\"Skipping chunk_size={chunk_size}, max_tokens={max_tokens} (already completed)\")\n",
    "            continue\n",
    "\n",
    "        output_file_path = f\"{output_base}/generation_log_{chunk_size}_Token_{max_tokens}_Q{questions_num}.json\"\n",
    "\n",
    "        # Load existing results if file exists\n",
    "        if os.path.exists(output_file_path):\n",
    "            try:\n",
    "                with open(output_file_path, \"r\", encoding=\"utf-8\") as f:\n",
    "                    qa_results = json.load(f)\n",
    "            except json.JSONDecodeError:\n",
    "                print(\"Warning: Output file is corrupted. Starting fresh.\")\n",
    "                qa_results = {}\n",
    "        else:\n",
    "            # Create the output directory if it doesn't exist\n",
    "            os.makedirs(os.path.dirname(output_file_path), exist_ok=True)\n",
    "            qa_results = {}\n",
    "\n",
    "        # Trackers\n",
    "        total_chunks = 0\n",
    "        success_count = 0\n",
    "        fail_count = 0\n",
    "        total_questions = 0\n",
    "        qa_count_mismatch = 0\n",
    "        chunk_counter = 0\n",
    "\n",
    "        start_time = time.time()\n",
    "\n",
    "        for doc_name, chunks in chunk_data.items():\n",
    "            if doc_name in qa_results and qa_results[doc_name]:\n",
    "                print(f\"Skipping {doc_name} (already processed)\")\n",
    "                continue\n",
    "\n",
    "            qa_results[doc_name] = []\n",
    "\n",
    "            for chunk in chunks[:10]:  # Adjust slice as needed\n",
    "                total_chunks += 1\n",
    "                chunk_counter += 1\n",
    "                prompt = build_prompt(chunk, questions_num)\n",
    "                try:\n",
    "                    inputs = tokenizer(prompt, return_tensors=\"pt\").to(device)\n",
    "                    with torch.no_grad():\n",
    "                        output_tokens = model.generate(**inputs, max_new_tokens=max_tokens)\n",
    "                    generated_tokens = output_tokens[0][len(inputs[\"input_ids\"][0]):]\n",
    "                    generated_text = tokenizer.decode(generated_tokens, skip_special_tokens=True)\n",
    "                    qa_pairs = json.loads(generated_text)\n",
    "\n",
    "                    if isinstance(qa_pairs, list):\n",
    "                        qa_results[doc_name].append({\n",
    "                            \"chunk\": chunk,\n",
    "                            \"qa_pairs\": qa_pairs\n",
    "                        })\n",
    "                        success_count += 1\n",
    "                        total_questions += len(qa_pairs)\n",
    "\n",
    "                        if len(qa_pairs) != questions_num:\n",
    "                            qa_count_mismatch += 1\n",
    "                    else:\n",
    "                        fail_count += 1\n",
    "\n",
    "                except Exception as e:\n",
    "                    print(f\"Error processing chunk from {doc_name}: {e}\")\n",
    "                    fail_count += 1\n",
    "\n",
    "                # Save every batch_size chunks\n",
    "                if chunk_counter % batch_size == 0:\n",
    "                    with open(output_file_path, \"w\", encoding=\"utf-8\") as out_file:\n",
    "                        json.dump(qa_results, out_file, indent=4, ensure_ascii=False)\n",
    "                    print(f\"Checkpoint saved at chunk {chunk_counter}\")\n",
    "\n",
    "            # Save after each document\n",
    "            with open(output_file_path, \"w\", encoding=\"utf-8\") as out_file:\n",
    "                json.dump(qa_results, out_file, indent=4, ensure_ascii=False)\n",
    "            print(f\"Saved full doc: {doc_name}\")\n",
    "\n",
    "        # Final save\n",
    "        end_time = time.time()\n",
    "        elapsed_time = timedelta(seconds=end_time - start_time)\n",
    "\n",
    "        results_df.loc[len(results_df)] = [\n",
    "            chunk_size, questions_num, qa_count_mismatch, total_questions,\n",
    "            max_tokens, total_chunks, success_count, fail_count,\n",
    "            str(elapsed_time)\n",
    "        ]\n",
    "\n",
    "        print(f\"Completed {chunk_size}, {max_tokens} | Time: {elapsed_time}\")\n",
    "\n",
    "        # Update tracker\n",
    "        tracker_df.loc[row_match, \"completed\"] = True\n",
    "        tracker_df.to_csv(check_point_path, index=False)\n",
    "        \n",
    "        scores_df = power_analysis(chunk_size, max_tokens, qa_results,run_id,elapsed_time)\n",
    "        if os.path.exists(f\"{output_base}/scores.csv\"):\n",
    "            scores_df.to_csv(f\"{output_base}/scores.csv\", mode='a', header=False, index=False)\n",
    "        else:\n",
    "            os.makedirs(f\"{output_base}/scores\", exist_ok=True)\n",
    "            scores_df.to_csv(f\"{output_base}/scores.csv\", index=False)\n",
    "\n",
    "# Save summary CSV\n",
    "csv_output_path = f\"{output_base}/qa_generation_results_summary.csv\"\n",
    "results_df.to_csv(csv_output_path, index=False)\n",
    "print(f\"\\nSummary saved to {csv_output_path}\")\n"
   ]
  },
  {
   "cell_type": "code",
   "execution_count": null,
   "metadata": {},
   "outputs": [],
   "source": []
  }
 ],
 "metadata": {
  "kernelspec": {
   "display_name": "llm-forge",
   "language": "python",
   "name": "python3"
  },
  "language_info": {
   "codemirror_mode": {
    "name": "ipython",
    "version": 3
   },
   "file_extension": ".py",
   "mimetype": "text/x-python",
   "name": "python",
   "nbconvert_exporter": "python",
   "pygments_lexer": "ipython3",
   "version": "3.10.16"
  }
 },
 "nbformat": 4,
 "nbformat_minor": 4
}
