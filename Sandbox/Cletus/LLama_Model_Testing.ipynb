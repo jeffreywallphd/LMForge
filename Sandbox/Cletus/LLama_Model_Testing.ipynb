{
 "cells": [
  {
   "cell_type": "code",
   "execution_count": 1,
   "metadata": {},
   "outputs": [
    {
     "name": "stdout",
     "output_type": "stream",
     "text": [
      "True\n",
      "1\n",
      "NVIDIA RTX 5000 Ada Generation\n"
     ]
    }
   ],
   "source": [
    "import torch\n",
    "print(torch.cuda.is_available())  # Should return True\n",
    "print(torch.cuda.device_count())  # Should return the number of GPUs\n",
    "print(torch.cuda.get_device_name(0))  # Should show the GPU model"
   ]
  },
  {
   "cell_type": "code",
   "execution_count": 2,
   "metadata": {},
   "outputs": [
    {
     "data": {
      "text/plain": [
       "True"
      ]
     },
     "execution_count": 2,
     "metadata": {},
     "output_type": "execute_result"
    }
   ],
   "source": [
    "import transformers\n",
    "import torch\n",
    "import os\n",
    "import json\n",
    "from huggingface_hub import login\n",
    "from transformers import AutoTokenizer, AutoModelForCausalLM\n",
    "import logging\n",
    "import time\n",
    "from datetime import timedelta, datetime\n",
    "import pandas as pd\n",
    "from dotenv import load_dotenv\n",
    "import shutil \n",
    "\n",
    "import evaluate\n",
    "from sentence_transformers import SentenceTransformer, util\n",
    "import numpy as np\n",
    "\n",
    "# Load environment variables\n",
    "load_dotenv(dotenv_path=\"../../.env\") # path is relative to this script, adjust as needed"
   ]
  },
  {
   "cell_type": "code",
   "execution_count": 3,
   "metadata": {},
   "outputs": [
    {
     "name": "stdout",
     "output_type": "stream",
     "text": [
      "HF_HOME: D:/huggingface_cache\n",
      "TRANSFORMERS_CACHE: D:/huggingface_cache\n",
      "HUGGINGFACE_HUB_CACHE: D:/huggingface_cache\n"
     ]
    }
   ],
   "source": [
    "# setting huggingface token\n",
    "login(token=os.getenv(\"HUGGINGFACE_TOKEN\"))\n",
    "\n",
    "os.environ[\"HF_HOME\"] = \"D:/huggingface_cache\" \n",
    "os.environ[\"TRANSFORMERS_CACHE\"] = \"D:/huggingface_cache\"\n",
    "os.environ[\"HUGGINGFACE_HUB_CACHE\"] = \"D:/huggingface_cache\"\n",
    "\n",
    "print(\"HF_HOME:\", os.getenv(\"HF_HOME\"))\n",
    "print(\"TRANSFORMERS_CACHE:\", os.getenv(\"TRANSFORMERS_CACHE\"))\n",
    "print(\"HUGGINGFACE_HUB_CACHE:\", os.getenv(\"HUGGINGFACE_HUB_CACHE\"))\n",
    "\n",
    "transformers.utils.hub.TRANSFORMERS_CACHE = \"D:/huggingface_cache\""
   ]
  },
  {
   "cell_type": "code",
   "execution_count": 4,
   "metadata": {},
   "outputs": [
    {
     "data": {
      "application/vnd.jupyter.widget-view+json": {
       "model_id": "c1e8c8621a2b49d989df1f35ffb000e6",
       "version_major": 2,
       "version_minor": 0
      },
      "text/plain": [
       "Downloading shards:   0%|          | 0/4 [00:00<?, ?it/s]"
      ]
     },
     "metadata": {},
     "output_type": "display_data"
    },
    {
     "data": {
      "application/vnd.jupyter.widget-view+json": {
       "model_id": "196942cc4001477cb608640dc653806b",
       "version_major": 2,
       "version_minor": 0
      },
      "text/plain": [
       "Loading checkpoint shards:   0%|          | 0/4 [00:00<?, ?it/s]"
      ]
     },
     "metadata": {},
     "output_type": "display_data"
    }
   ],
   "source": [
    "model_name = \"meta-llama/Meta-Llama-3-8B\"\n",
    "\n",
    "tokenizer = AutoTokenizer.from_pretrained(model_name)\n",
    "model = AutoModelForCausalLM.from_pretrained(model_name, torch_dtype=torch.float16, device_map=\"cuda\")\n"
   ]
  },
  {
   "cell_type": "code",
   "execution_count": 5,
   "metadata": {},
   "outputs": [],
   "source": [
    "chunk_sizes = [128]\n",
    "questions_num = 2\n",
    "max_token_list = [128,256]\n"
   ]
  },
  {
   "cell_type": "code",
   "execution_count": 6,
   "metadata": {},
   "outputs": [],
   "source": [
    "results_df = pd.DataFrame(columns=[\n",
    "    \"chunk_size\", \"questions_num\", \"qa_count_mismatch\", \"total_questions\", \"token_Size\",\n",
    "    \"total_chunks\", \"success_count\", \"fail_count\",\n",
    "    \"elapsed_time\"\n",
    "])"
   ]
  },
  {
   "cell_type": "code",
   "execution_count": 7,
   "metadata": {},
   "outputs": [],
   "source": [
    "# Checkpointing to avoid re-running completed configurations\n",
    "checkpoint_path = \"checkpoint.csv\"\n",
    "\n",
    "# Load existing checkpoint if it exists\n",
    "if os.path.exists(checkpoint_path):\n",
    "    completed_runs = pd.read_csv(checkpoint_path)\n",
    "    # Ensure column names are correct\n",
    "    completed_runs.columns = [\"chunk_size\", \"max_tokens\"]\n",
    "    completed_set = set(zip(\n",
    "        completed_runs[\"chunk_size\"].astype(int),\n",
    "        completed_runs[\"max_tokens\"].astype(int)\n",
    "    ))\n",
    "else:\n",
    "    completed_set = set()\n",
    "    pd.DataFrame(columns=[\"chunk_size\", \"max_tokens\"]).to_csv(checkpoint_path, index=False)\n"
   ]
  },
  {
   "cell_type": "code",
   "execution_count": 8,
   "metadata": {},
   "outputs": [],
   "source": [
    "def power_analysis(chunk_size, max_tokens, qa_results,substring_date):\n",
    "    \"\"\"\n",
    "    Perform power analysis based on the provided parameters for the current run.\n",
    "    \"\"\"\n",
    "    \n",
    "    # https://huggingface.co/spaces/evaluate-metric/bertscore\n",
    "    # https://huggingface.co/tasks/sentence-similarity\n",
    "    # 1 Metric: ROUGE\n",
    "    rouge = evaluate.load(\"rouge\")\n",
    "\n",
    "    originals = []\n",
    "    generations = []\n",
    "\n",
    "    for doc in qa_results.values():\n",
    "        for item in doc:\n",
    "            chunk = item[\"chunk\"]\n",
    "            qa = item[\"qa_pairs\"]\n",
    "            for pair in qa:\n",
    "                originals.append(chunk)  # reference\n",
    "                generations.append(pair[\"answer\"])  # model-generated answer\n",
    "\n",
    "    scores = rouge.compute(predictions=generations, references=originals)\n",
    "    print(f\"ROUGE Scores: {scores}\")\n",
    "\n",
    "    # 2 Metric: BERTScore\n",
    "    bertscore = evaluate.load(\"bertscore\")\n",
    "    bert_scores = bertscore.compute(predictions=generations, references=originals, model_type=\"bert-base-uncased\", lang=\"en\")\n",
    "    P = bert_scores[\"precision\"]\n",
    "    R = bert_scores[\"recall\"]\n",
    "    F1 = bert_scores[\"f1\"] \n",
    "\n",
    "    print(f\"BERTScore: {bert_scores}\")\n",
    "\n",
    "    # 3 Metric: STS (Semantic Textual Similarity)\n",
    "    sts_model = SentenceTransformer('sentence-transformers/all-MiniLM-L6-v2')\n",
    "    original_embeddings = sts_model.encode(originals, convert_to_tensor=True) \n",
    "    generated_embeddings = sts_model.encode(generations, convert_to_tensor=True)\n",
    "    sts_scores = util.pytorch_cos_sim(original_embeddings, generated_embeddings).diagonal().cpu().tolist()\n",
    "\n",
    "    print(f\"STS Scores: {sts_scores}\")\n",
    "\n",
    "    # save the scores to a CSV file\n",
    "    scores_df = pd.DataFrame({\n",
    "        \"chunk_size\": [chunk_size],\n",
    "        \"max_tokens\": [max_tokens],\n",
    "        \"questions_num\": [questions_num],\n",
    "        \"rouge1\": [scores[\"rouge1\"]],\n",
    "        \"rouge2\": [scores[\"rouge2\"]],\n",
    "        \"rougeL\": [scores[\"rougeL\"]],\n",
    "        \"rougeLsum\": [scores[\"rougeLsum\"]],\n",
    "        \"bert_score_P\": [np.mean(P)],\n",
    "        \"bert_score_R\": [np.mean(R)],\n",
    "        \"bert_score_F1\": [np.mean(F1)],\n",
    "        \"sts_score\": [np.mean(sts_scores)]\n",
    "    })\n",
    "    \n",
    "    print(\"Scores saved to scores.csv\")   \n",
    "    return scores_df"
   ]
  },
  {
   "cell_type": "markdown",
   "metadata": {},
   "source": [
    "# Convert logs to Panda\n"
   ]
  },
  {
   "cell_type": "code",
   "execution_count": 9,
   "metadata": {},
   "outputs": [
    {
     "name": "stdout",
     "output_type": "stream",
     "text": [
      "Starting new run: Chunk=128, Max Tokens=128\n",
      "✅ Saved: Generated_Results/LLAMA3_1/20250504/generation_log_128_Token_128_Q2.json | Time: 0:01:11.891710\n"
     ]
    },
    {
     "data": {
      "application/vnd.jupyter.widget-view+json": {
       "model_id": "d43a08f2123b4b4596258925b7e014d3",
       "version_major": 2,
       "version_minor": 0
      },
      "text/plain": [
       "Downloading builder script:   0%|          | 0.00/6.27k [00:00<?, ?B/s]"
      ]
     },
     "metadata": {},
     "output_type": "display_data"
    },
    {
     "name": "stdout",
     "output_type": "stream",
     "text": [
      "ROUGE Scores: {'rouge1': np.float64(0.21317079082583978), 'rouge2': np.float64(0.12170731636101842), 'rougeL': np.float64(0.17683180784815866), 'rougeLsum': np.float64(0.2023628608530642)}\n"
     ]
    },
    {
     "data": {
      "application/vnd.jupyter.widget-view+json": {
       "model_id": "9ad34e64bbf94b0ab8d5fb9a4325ba7c",
       "version_major": 2,
       "version_minor": 0
      },
      "text/plain": [
       "Downloading builder script:   0%|          | 0.00/7.95k [00:00<?, ?B/s]"
      ]
     },
     "metadata": {},
     "output_type": "display_data"
    },
    {
     "name": "stdout",
     "output_type": "stream",
     "text": [
      "BERTScore: {'precision': [0.5442872047424316, 0.5888479948043823, 0.7148540019989014, 0.5113482475280762, 0.4969738721847534, 0.7080531120300293, 0.7080531120300293, 0.8389997482299805, 0.8699195384979248, 0.9113554358482361, 0.9113554358482361, 0.49061819911003113, 0.5313531756401062], 'recall': [0.4286039173603058, 0.4766969084739685, 0.48889362812042236, 0.3012828826904297, 0.30682313442230225, 0.22641891241073608, 0.22641891241073608, 0.5417704582214355, 0.5713563561439514, 0.4587857127189636, 0.4587857127189636, 0.3150630295276642, 0.32796794176101685], 'f1': [0.4795677959918976, 0.5268704295158386, 0.5806658267974854, 0.37916457653045654, 0.3794069290161133, 0.34311699867248535, 0.34311699867248535, 0.6583938002586365, 0.6897139549255371, 0.6103267073631287, 0.6103267073631287, 0.3837141990661621, 0.40559181571006775], 'hashcode': 'bert-base-uncased_L9_no-idf_version=0.3.12(hug_trans=4.49.0)'}\n",
      "STS Scores: [0.4632789194583893, 0.5369306802749634, 0.6313551664352417, 0.45495298504829407, 0.4977133274078369, 0.2190599888563156, 0.2190599888563156, 0.5481107831001282, 0.7425599694252014, 0.780059278011322, 0.780059278011322, 0.5465723276138306, 0.5366025567054749]\n",
      "Scores saved to scores.csv\n",
      "Skipping completed run: Chunk=128, Max Tokens=256\n",
      "All runs completed.\n"
     ]
    }
   ],
   "source": [
    "device = torch.device(\"cuda\" if torch.cuda.is_available() else \"cpu\")\n",
    "model.to(device)\n",
    "\n",
    "substring_date = datetime.now().strftime(\"%Y%m%d\") \n",
    "# delete existing folder if you want to rerun the script from scratch uncomment the following lines\n",
    "\n",
    "if os.path.exists(f\"Generated_Results/LLAMA3_1/{substring_date}\"):\n",
    "    shutil.rmtree(f\"Generated_Results/LLAMA3_1/{substring_date}\")\n",
    "\n",
    "# deleting existing checkpoint file if you want to rerun the script from scratch uncomment the following lines\n",
    "if os.path.exists(checkpoint_path):\n",
    "    os.remove(checkpoint_path)\n",
    "    \n",
    "for chunk_size in chunk_sizes:\n",
    "    json_file_path = f\"../Yaman/Generate_Paragraphs/Results/extracted_chunks_{chunk_size}_overlap.json\"\n",
    "\n",
    "    if not os.path.exists(json_file_path):\n",
    "        print(f\"Missing input file: {json_file_path}, skipping.\")\n",
    "        continue\n",
    "\n",
    "    with open(json_file_path, \"r\", encoding=\"utf-8\") as file:\n",
    "        chunk_data = json.load(file)\n",
    "\n",
    "\n",
    "    for max_tokens in max_token_list:\n",
    "        if (chunk_size, max_tokens) in completed_set:\n",
    "            print(f\"Skipping completed run: Chunk={chunk_size}, Max Tokens={max_tokens}\")\n",
    "            continue\n",
    "\n",
    "        output_file_path = f\"Generated_Results/LLAMA3_1/{substring_date}/generation_log_{chunk_size}_Token_{max_tokens}_Q{questions_num}.json\"\n",
    "        if os.path.exists(output_file_path):\n",
    "            print(f\"Output already exists: {output_file_path}, skipping.\")\n",
    "            continue\n",
    "\n",
    "        print(f\"Starting new run: Chunk={chunk_size}, Max Tokens={max_tokens}\")\n",
    "\n",
    "        qa_results = {}\n",
    "        total_chunks = 0\n",
    "        success_count = 0\n",
    "        fail_count = 0\n",
    "        total_questions = 0\n",
    "        qa_count_mismatch = 0\n",
    "\n",
    "        start_time = time.time()\n",
    "\n",
    "        for doc_name, chunks in chunk_data.items():\n",
    "            qa_results[doc_name] = []\n",
    "\n",
    "            for chunk in chunks[:10]:  # Limit to first 5 chunks for testing\n",
    "                total_chunks += 1\n",
    "\n",
    "                prompt = f\"\"\"\n",
    "Generate {questions_num} question-answer pairs based on the following text segment. \n",
    "Return the result in valid JSON format as a list of objects.\n",
    "\n",
    "Text Segment:\n",
    "\n",
    "{chunk}\n",
    "\n",
    "Response Format:\n",
    "[\n",
    "    {{\"question\": \"generated question\", \"answer\": \"generated Answer\"}},\n",
    "]\n",
    "\n",
    "Question answers should be at least 250 words long.\n",
    "\n",
    "Do NOT include any explanation or preamble before or after the JSON output.\n",
    "Return ONLY valid JSON output.\n",
    "\n",
    "Answer:\n",
    "                \"\"\"\n",
    "\n",
    "                inputs = tokenizer(prompt, return_tensors=\"pt\").to(device)\n",
    "\n",
    "                try:\n",
    "                    max_context = model.config.max_position_embeddings\n",
    "                    input_len = inputs['input_ids'].shape[1]\n",
    "                    if input_len + max_tokens > max_context:\n",
    "                        print(f\"Skipping chunk (too long): input_len={input_len}\")\n",
    "                        continue\n",
    "\n",
    "                    with torch.no_grad():\n",
    "                        output_tokens = model.generate(**inputs, max_new_tokens=max_tokens,pad_token_id=tokenizer.eos_token_id)\n",
    "\n",
    "                    generated_tokens = output_tokens[0][len(inputs[\"input_ids\"][0]):]\n",
    "                    generated_text = tokenizer.decode(generated_tokens, skip_special_tokens=True)\n",
    "\n",
    "                    try:\n",
    "                        qa_pairs = json.loads(generated_text)\n",
    "                        if isinstance(qa_pairs, list):\n",
    "                            qa_results[doc_name].append({\n",
    "                                \"chunk\": chunk,\n",
    "                                \"qa_pairs\": qa_pairs\n",
    "                            })\n",
    "                            success_count += 1\n",
    "                            total_questions += len(qa_pairs)\n",
    "\n",
    "                            if len(qa_pairs) != questions_num:\n",
    "                                qa_count_mismatch += 1\n",
    "                        else:\n",
    "                            fail_count += 1\n",
    "                    except json.JSONDecodeError:\n",
    "                        fail_count += 1\n",
    "\n",
    "                except Exception as e:\n",
    "                    print(f\"Error generating for chunk: {e}\")\n",
    "                    fail_count += 1\n",
    "\n",
    "        # Save QA Output\n",
    "        os.makedirs(os.path.dirname(output_file_path), exist_ok=True)\n",
    "        with open(output_file_path, \"w\", encoding=\"utf-8\") as out_file:\n",
    "            json.dump(qa_results, out_file, indent=4, ensure_ascii=False)\n",
    "\n",
    "        end_time = time.time()\n",
    "        elapsed_time = timedelta(seconds=end_time - start_time)\n",
    "\n",
    "        # Save Results and Checkpoint\n",
    "        results_df.loc[len(results_df)] = [\n",
    "            chunk_size, questions_num, qa_count_mismatch, total_questions,\n",
    "            max_tokens, total_chunks, success_count, fail_count, str(elapsed_time)\n",
    "        ]\n",
    "        \n",
    "        csv_output_path = f\"Generated_Results/LLAMA3_1/{substring_date}/results_log.csv\"\n",
    "        results_df.to_csv(csv_output_path, index=False)\n",
    "\n",
    "        pd.DataFrame([[chunk_size, max_tokens]], columns=[\"chunk_size\", \"max_tokens\"]) \\\n",
    "            .to_csv(checkpoint_path, mode='a', header=False, index=False)\n",
    "\n",
    "        print(f\"✅ Saved: {output_file_path} | Time: {elapsed_time}\")\n",
    "        scores_df = power_analysis(chunk_size, max_tokens, qa_results,substring_date)\n",
    "        if os.path.exists(f\"Generated_Results/LLAMA3_1/{substring_date}/scores/scores.csv\"):\n",
    "            scores_df.to_csv(f\"Generated_Results/LLAMA3_1/{substring_date}/scores/scores.csv\", mode='a', header=False, index=False)\n",
    "        else:\n",
    "            os.makedirs(f\"Generated_Results/LLAMA3_1/{substring_date}/scores\", exist_ok=True)\n",
    "            scores_df.to_csv(f\"Generated_Results/LLAMA3_1/{substring_date}/scores/scores.csv\", index=False)\n",
    "\n",
    "print(\"All runs completed.\")"
   ]
  },
  {
   "cell_type": "code",
   "execution_count": null,
   "metadata": {},
   "outputs": [],
   "source": [
    "\n"
   ]
  }
 ],
 "metadata": {
  "kernelspec": {
   "display_name": "llm-forge",
   "language": "python",
   "name": "python3"
  },
  "language_info": {
   "codemirror_mode": {
    "name": "ipython",
    "version": 3
   },
   "file_extension": ".py",
   "mimetype": "text/x-python",
   "name": "python",
   "nbconvert_exporter": "python",
   "pygments_lexer": "ipython3",
   "version": "3.10.16"
  }
 },
 "nbformat": 4,
 "nbformat_minor": 4
}
