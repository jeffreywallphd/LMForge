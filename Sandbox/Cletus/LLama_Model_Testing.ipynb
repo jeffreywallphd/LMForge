{
 "cells": [
  {
   "cell_type": "code",
   "execution_count": 32,
   "metadata": {},
   "outputs": [
    {
     "name": "stdout",
     "output_type": "stream",
     "text": [
      "True\n",
      "1\n",
      "NVIDIA RTX 5000 Ada Generation\n"
     ]
    }
   ],
   "source": [
    "import torch\n",
    "print(torch.cuda.is_available())  # Should return True\n",
    "print(torch.cuda.device_count())  # Should return the number of GPUs\n",
    "print(torch.cuda.get_device_name(0))  # Should show the GPU model"
   ]
  },
  {
   "cell_type": "code",
   "execution_count": 33,
   "metadata": {},
   "outputs": [
    {
     "data": {
      "text/plain": [
       "True"
      ]
     },
     "execution_count": 33,
     "metadata": {},
     "output_type": "execute_result"
    }
   ],
   "source": [
    "import transformers\n",
    "import torch\n",
    "import os\n",
    "import json\n",
    "from huggingface_hub import login\n",
    "from transformers import AutoTokenizer, AutoModelForCausalLM\n",
    "import logging\n",
    "import time\n",
    "from datetime import timedelta, datetime\n",
    "import pandas as pd\n",
    "from dotenv import load_dotenv\n",
    "import shutil\n",
    "\n",
    "\n",
    "\n",
    "# Load environment variables\n",
    "load_dotenv(dotenv_path=\"../../.env\") # path is relative to this script, adjust as needed"
   ]
  },
  {
   "cell_type": "code",
   "execution_count": 34,
   "metadata": {},
   "outputs": [
    {
     "name": "stdout",
     "output_type": "stream",
     "text": [
      "HF_HOME: D:/huggingface_cache\n",
      "TRANSFORMERS_CACHE: D:/huggingface_cache\n",
      "HUGGINGFACE_HUB_CACHE: D:/huggingface_cache\n"
     ]
    }
   ],
   "source": [
    "# setting huggingface token\n",
    "login(token=os.getenv(\"HUGGINGFACE_TOKEN\"))\n",
    "\n",
    "os.environ[\"HF_HOME\"] = \"D:/huggingface_cache\" \n",
    "os.environ[\"TRANSFORMERS_CACHE\"] = \"D:/huggingface_cache\"\n",
    "os.environ[\"HUGGINGFACE_HUB_CACHE\"] = \"D:/huggingface_cache\"\n",
    "\n",
    "print(\"HF_HOME:\", os.getenv(\"HF_HOME\"))\n",
    "print(\"TRANSFORMERS_CACHE:\", os.getenv(\"TRANSFORMERS_CACHE\"))\n",
    "print(\"HUGGINGFACE_HUB_CACHE:\", os.getenv(\"HUGGINGFACE_HUB_CACHE\"))\n",
    "\n",
    "transformers.utils.hub.TRANSFORMERS_CACHE = \"D:/huggingface_cache\""
   ]
  },
  {
   "cell_type": "code",
   "execution_count": 35,
   "metadata": {},
   "outputs": [
    {
     "data": {
      "application/vnd.jupyter.widget-view+json": {
       "model_id": "e37ed370427346cba51af0021338d3cf",
       "version_major": 2,
       "version_minor": 0
      },
      "text/plain": [
       "Downloading shards:   0%|          | 0/4 [00:00<?, ?it/s]"
      ]
     },
     "metadata": {},
     "output_type": "display_data"
    },
    {
     "data": {
      "application/vnd.jupyter.widget-view+json": {
       "model_id": "dd4567923348429d962007250e2e928c",
       "version_major": 2,
       "version_minor": 0
      },
      "text/plain": [
       "Loading checkpoint shards:   0%|          | 0/4 [00:00<?, ?it/s]"
      ]
     },
     "metadata": {},
     "output_type": "display_data"
    }
   ],
   "source": [
    "model_name = \"meta-llama/Meta-Llama-3-8B\"\n",
    "\n",
    "tokenizer = AutoTokenizer.from_pretrained(model_name)\n",
    "model = AutoModelForCausalLM.from_pretrained(model_name, torch_dtype=torch.float16, device_map=\"cuda\")\n"
   ]
  },
  {
   "cell_type": "code",
   "execution_count": 36,
   "metadata": {},
   "outputs": [],
   "source": [
    "chunk_sizes = [128]\n",
    "questions_num = 2\n",
    "max_token_list = [256]\n"
   ]
  },
  {
   "cell_type": "code",
   "execution_count": 37,
   "metadata": {},
   "outputs": [],
   "source": [
    "results_df = pd.DataFrame(columns=[\n",
    "    \"chunk_size\", \"questions_num\", \"qa_count_mismatch\", \"total_questions\", \"token_Size\",\n",
    "    \"total_chunks\", \"success_count\", \"fail_count\",\n",
    "    \"elapsed_time\"\n",
    "])"
   ]
  },
  {
   "cell_type": "code",
   "execution_count": 42,
   "metadata": {},
   "outputs": [],
   "source": [
    "# Checkpointing to avoid re-running completed configurations\n",
    "checkpoint_path = \"checkpoint.csv\"\n",
    "\n",
    "# Load existing checkpoint if it exists\n",
    "if os.path.exists(checkpoint_path):\n",
    "    completed_runs = pd.read_csv(checkpoint_path)\n",
    "    # Ensure column names are correct\n",
    "    completed_runs.columns = [\"chunk_size\", \"max_tokens\"]\n",
    "    completed_set = set(zip(\n",
    "        completed_runs[\"chunk_size\"].astype(int),\n",
    "        completed_runs[\"max_tokens\"].astype(int)\n",
    "    ))\n",
    "else:\n",
    "    completed_set = set()\n",
    "    pd.DataFrame(columns=[\"chunk_size\", \"max_tokens\"]).to_csv(checkpoint_path, index=False)\n"
   ]
  },
  {
   "cell_type": "markdown",
   "metadata": {},
   "source": [
    "# Convert logs to Panda\n"
   ]
  },
  {
   "cell_type": "code",
   "execution_count": 46,
   "metadata": {},
   "outputs": [
    {
     "name": "stderr",
     "output_type": "stream",
     "text": [
      "Setting `pad_token_id` to `eos_token_id`:128001 for open-end generation.\n"
     ]
    },
    {
     "name": "stdout",
     "output_type": "stream",
     "text": [
      "Starting new run: Chunk=128, Max Tokens=256\n"
     ]
    },
    {
     "name": "stderr",
     "output_type": "stream",
     "text": [
      "Setting `pad_token_id` to `eos_token_id`:128001 for open-end generation.\n",
      "Setting `pad_token_id` to `eos_token_id`:128001 for open-end generation.\n",
      "Setting `pad_token_id` to `eos_token_id`:128001 for open-end generation.\n",
      "Setting `pad_token_id` to `eos_token_id`:128001 for open-end generation.\n",
      "Setting `pad_token_id` to `eos_token_id`:128001 for open-end generation.\n",
      "Setting `pad_token_id` to `eos_token_id`:128001 for open-end generation.\n",
      "Setting `pad_token_id` to `eos_token_id`:128001 for open-end generation.\n",
      "Setting `pad_token_id` to `eos_token_id`:128001 for open-end generation.\n",
      "Setting `pad_token_id` to `eos_token_id`:128001 for open-end generation.\n",
      "Setting `pad_token_id` to `eos_token_id`:128001 for open-end generation.\n",
      "Setting `pad_token_id` to `eos_token_id`:128001 for open-end generation.\n",
      "Setting `pad_token_id` to `eos_token_id`:128001 for open-end generation.\n",
      "Setting `pad_token_id` to `eos_token_id`:128001 for open-end generation.\n",
      "Setting `pad_token_id` to `eos_token_id`:128001 for open-end generation.\n",
      "Setting `pad_token_id` to `eos_token_id`:128001 for open-end generation.\n",
      "Setting `pad_token_id` to `eos_token_id`:128001 for open-end generation.\n",
      "Setting `pad_token_id` to `eos_token_id`:128001 for open-end generation.\n",
      "Setting `pad_token_id` to `eos_token_id`:128001 for open-end generation.\n",
      "Setting `pad_token_id` to `eos_token_id`:128001 for open-end generation.\n"
     ]
    },
    {
     "name": "stdout",
     "output_type": "stream",
     "text": [
      "✅ Saved: Generated_Results/LLAMA3_1/20250503/generation_log_128_Token_256_Q2.json | Time: 0:01:58.386235\n",
      "All runs completed.\n"
     ]
    }
   ],
   "source": [
    "device = torch.device(\"cuda\" if torch.cuda.is_available() else \"cpu\")\n",
    "model.to(device)\n",
    "\n",
    "substring_date = datetime.now().strftime(\"%Y%m%d\") \n",
    "# delete existing folder if you want to rerun the script from scratch uncomment the following lines\n",
    "\n",
    "if os.path.exists(f\"Generated_Results/LLAMA3_1/{substring_date}\"):\n",
    "    shutil.rmtree(f\"Generated_Results/LLAMA3_1/{substring_date}\")\n",
    "\n",
    "# deleting existing checkpoint file if you want to rerun the script from scratch uncomment the following lines\n",
    "if os.path.exists(checkpoint_path):\n",
    "    os.remove(checkpoint_path)\n",
    "    \n",
    "for chunk_size in chunk_sizes:\n",
    "    json_file_path = f\"../Yaman/Generate_Paragraphs/Results/extracted_chunks_{chunk_size}_overlap.json\"\n",
    "\n",
    "    if not os.path.exists(json_file_path):\n",
    "        print(f\"Missing input file: {json_file_path}, skipping.\")\n",
    "        continue\n",
    "\n",
    "    with open(json_file_path, \"r\", encoding=\"utf-8\") as file:\n",
    "        chunk_data = json.load(file)\n",
    "\n",
    "\n",
    "    for max_tokens in max_token_list:\n",
    "        if (chunk_size, max_tokens) in completed_set:\n",
    "            print(f\"Skipping completed run: Chunk={chunk_size}, Max Tokens={max_tokens}\")\n",
    "            continue\n",
    "\n",
    "        output_file_path = f\"Generated_Results/LLAMA3_1/{substring_date}/generation_log_{chunk_size}_Token_{max_tokens}_Q{questions_num}.json\"\n",
    "        if os.path.exists(output_file_path):\n",
    "            print(f\"Output already exists: {output_file_path}, skipping.\")\n",
    "            continue\n",
    "\n",
    "        print(f\"Starting new run: Chunk={chunk_size}, Max Tokens={max_tokens}\")\n",
    "\n",
    "        qa_results = {}\n",
    "        total_chunks = 0\n",
    "        success_count = 0\n",
    "        fail_count = 0\n",
    "        total_questions = 0\n",
    "        qa_count_mismatch = 0\n",
    "\n",
    "        start_time = time.time()\n",
    "\n",
    "        for doc_name, chunks in chunk_data.items():\n",
    "            qa_results[doc_name] = []\n",
    "\n",
    "            for chunk in chunks[:10]:  # Limit to first 5 chunks for testing\n",
    "                total_chunks += 1\n",
    "\n",
    "                prompt = f\"\"\"\n",
    "Generate {questions_num} question-answer pairs based on the following text segment. \n",
    "Return the result in valid JSON format as a list of objects.\n",
    "\n",
    "Text Segment:\n",
    "\n",
    "{chunk}\n",
    "\n",
    "Response Format:\n",
    "[\n",
    "    {{\"question\": \"generated question\", \"answer\": \"generated Answer\"}},\n",
    "]\n",
    "\n",
    "Question answers should be at least 250 words long.\n",
    "\n",
    "Do NOT include any explanation or preamble before or after the JSON output.\n",
    "Return ONLY valid JSON output.\n",
    "\n",
    "Answer:\n",
    "                \"\"\"\n",
    "\n",
    "                inputs = tokenizer(prompt, return_tensors=\"pt\").to(device)\n",
    "\n",
    "                try:\n",
    "                    max_context = model.config.max_position_embeddings\n",
    "                    input_len = inputs['input_ids'].shape[1]\n",
    "                    if input_len + max_tokens > max_context:\n",
    "                        print(f\"Skipping chunk (too long): input_len={input_len}\")\n",
    "                        continue\n",
    "\n",
    "                    with torch.no_grad():\n",
    "                        output_tokens = model.generate(**inputs, max_new_tokens=max_tokens)\n",
    "\n",
    "                    generated_tokens = output_tokens[0][len(inputs[\"input_ids\"][0]):]\n",
    "                    generated_text = tokenizer.decode(generated_tokens, skip_special_tokens=True)\n",
    "\n",
    "                    try:\n",
    "                        qa_pairs = json.loads(generated_text)\n",
    "                        if isinstance(qa_pairs, list):\n",
    "                            qa_results[doc_name].append({\n",
    "                                \"chunk\": chunk,\n",
    "                                \"qa_pairs\": qa_pairs\n",
    "                            })\n",
    "                            success_count += 1\n",
    "                            total_questions += len(qa_pairs)\n",
    "\n",
    "                            if len(qa_pairs) != questions_num:\n",
    "                                qa_count_mismatch += 1\n",
    "                        else:\n",
    "                            fail_count += 1\n",
    "                    except json.JSONDecodeError:\n",
    "                        fail_count += 1\n",
    "\n",
    "                except Exception as e:\n",
    "                    print(f\"Error generating for chunk: {e}\")\n",
    "                    fail_count += 1\n",
    "\n",
    "        # Save QA Output\n",
    "        os.makedirs(os.path.dirname(output_file_path), exist_ok=True)\n",
    "        with open(output_file_path, \"w\", encoding=\"utf-8\") as out_file:\n",
    "            json.dump(qa_results, out_file, indent=4, ensure_ascii=False)\n",
    "\n",
    "        end_time = time.time()\n",
    "        elapsed_time = timedelta(seconds=end_time - start_time)\n",
    "\n",
    "        # Save Results and Checkpoint\n",
    "        results_df.loc[len(results_df)] = [\n",
    "            chunk_size, questions_num, qa_count_mismatch, total_questions,\n",
    "            max_tokens, total_chunks, success_count, fail_count, str(elapsed_time)\n",
    "        ]\n",
    "        \n",
    "        csv_output_path = f\"Generated_Results/LLAMA3_1/{substring_date}/results_log.csv\"\n",
    "        results_df.to_csv(csv_output_path, index=False)\n",
    "\n",
    "        pd.DataFrame([[chunk_size, max_tokens]], columns=[\"chunk_size\", \"max_tokens\"]) \\\n",
    "            .to_csv(checkpoint_path, mode='a', header=False, index=False)\n",
    "\n",
    "        print(f\"✅ Saved: {output_file_path} | Time: {elapsed_time}\")\n",
    "\n",
    "print(\"All runs completed.\")"
   ]
  },
  {
   "cell_type": "markdown",
   "metadata": {},
   "source": [
    "# Power Analysis"
   ]
  },
  {
   "cell_type": "markdown",
   "metadata": {},
   "source": [
    "### Similarity scores"
   ]
  },
  {
   "cell_type": "code",
   "execution_count": null,
   "metadata": {},
   "outputs": [
    {
     "name": "stdout",
     "output_type": "stream",
     "text": [
      "ROUGE Scores: {'rouge1': np.float64(0.2508211728930152), 'rouge2': np.float64(0.15723486213027013), 'rougeL': np.float64(0.21408449656826783), 'rougeLsum': np.float64(0.24702673196270564)}\n",
      "BERTScore: {'precision': [0.5546076893806458, 0.6222397089004517, 0.8201026320457458, 0.8014022707939148, 0.9216362237930298, 0.8989461064338684, 0.41739416122436523, 0.413485586643219, 0.5343936681747437, 0.861682116985321, 0.6062642335891724, 0.7044219970703125, 0.9103200435638428, 0.9187355041503906, 0.45303377509117126, 0.5083460211753845], 'recall': [0.4855918884277344, 0.48190203309059143, 0.8762295246124268, 0.4358558654785156, 0.5194042921066284, 0.4343598783016205, 0.2834673821926117, 0.30328941345214844, 0.21217963099479675, 0.4816848337650299, 0.29829058051109314, 0.48668134212493896, 0.47884076833724976, 0.5898059606552124, 0.34728050231933594, 0.3624058961868286], 'f1': [0.5178102850914001, 0.5431523323059082, 0.8472374677658081, 0.5646288990974426, 0.6643835306167603, 0.5857112407684326, 0.337634801864624, 0.3499167859554291, 0.30375435948371887, 0.6179386973381042, 0.3998495042324066, 0.5756495594978333, 0.6275707483291626, 0.7184100151062012, 0.393170028924942, 0.42314600944519043], 'hashcode': 'bert-base-uncased_L9_no-idf_version=0.3.12(hug_trans=4.49.0)'}\n",
      "STS Scores: [0.5101318359375, 0.33787429332733154, 0.8800532221794128, 0.6310431957244873, 0.5626064538955688, 0.5581757426261902, 0.36744940280914307, 0.339232861995697, 0.14504674077033997, 0.620344877243042, 0.29828840494155884, 0.29757511615753174, 0.8454126119613647, 0.7138364315032959, 0.6324368119239807, 0.6673086285591125]\n",
      "Scores saved to scores.csv\n"
     ]
    }
   ],
   "source": [
    "#pip install rouge-score - https://github.com/google-research/google-research/tree/master/rouge\n",
    "#pip install bert-score - https://github.com/Tiiiger/bert_score \n",
    "# https://huggingface.co/spaces/evaluate-metric/bertscore\n",
    "# https://huggingface.co/tasks/sentence-similarity\n",
    "\n",
    "import evaluate\n",
    "from sentence_transformers import SentenceTransformer, util\n",
    "import numpy as np\n",
    "\n",
    "# 1 Metric: ROUGE\n",
    "rouge = evaluate.load(\"rouge\")\n",
    "\n",
    "originals = []\n",
    "generations = []\n",
    "\n",
    "for doc in qa_results.values():\n",
    "    for item in doc:\n",
    "        chunk = item[\"chunk\"]\n",
    "        qa = item[\"qa_pairs\"]\n",
    "        for pair in qa:\n",
    "            originals.append(chunk)  # reference\n",
    "            generations.append(pair[\"answer\"])  # model-generated answer\n",
    "\n",
    "scores = rouge.compute(predictions=generations, references=originals)\n",
    "print(f\"ROUGE Scores: {scores}\")\n",
    "\n",
    "# 2 Metric: BERTScore\n",
    "bertscore = evaluate.load(\"bertscore\")\n",
    "bert_scores = bertscore.compute(predictions=generations, references=originals, model_type=\"bert-base-uncased\", lang=\"en\")\n",
    "P = bert_scores[\"precision\"]\n",
    "R = bert_scores[\"recall\"]\n",
    "F1 = bert_scores[\"f1\"] \n",
    "\n",
    "print(f\"BERTScore: {bert_scores}\")\n",
    "\n",
    "# 3 Metric: STS (Semantic Textual Similarity)\n",
    "sts_model = SentenceTransformer('sentence-transformers/all-MiniLM-L6-v2')\n",
    "sts_scores = []\n",
    "for original, generated in zip(originals, generations):\n",
    "    original_embedding = sts_model.encode(original, convert_to_tensor=True)\n",
    "    generated_embedding = sts_model.encode(generated, convert_to_tensor=True)\n",
    "    cosine_similarity = util.pytorch_cos_sim(original_embedding, generated_embedding).item()\n",
    "    sts_scores.append(cosine_similarity)\n",
    "\n",
    "print(f\"STS Scores: {sts_scores}\")\n",
    "\n",
    "# save the scores to a CSV file\n",
    "scores_df = pd.DataFrame({\n",
    "    \"chunk_size\": [chunk_sizes[0]],\n",
    "    \"max_tokens\": [max_token_list[0]],\n",
    "    \"questions_num\": [questions_num],\n",
    "    \"rouge1\": [scores[\"rouge1\"]],\n",
    "    \"rouge2\": [scores[\"rouge2\"]],\n",
    "    \"rougeL\": [scores[\"rougeL\"]],\n",
    "    \"rougeLsum\": [scores[\"rougeLsum\"]],\n",
    "    \"bert_score_P\": [np.mean(P)],\n",
    "    \"bert_score_R\": [np.mean(R)],\n",
    "    \"bert_score_F1\": [np.mean(F1)],\n",
    "    \"sts_score\": [np.mean(sts_scores)]\n",
    "})\n",
    "scores_df.to_csv(f\"Generated_Results/LLAMA3_1/{substring_date}/scores.csv\", index=False)\n",
    "print(\"Scores saved to scores.csv\")\n",
    "\n",
    "\n"
   ]
  },
  {
   "cell_type": "code",
   "execution_count": null,
   "metadata": {},
   "outputs": [],
   "source": [
    "\n"
   ]
  }
 ],
 "metadata": {
  "kernelspec": {
   "display_name": "llm-forge",
   "language": "python",
   "name": "python3"
  },
  "language_info": {
   "codemirror_mode": {
    "name": "ipython",
    "version": 3
   },
   "file_extension": ".py",
   "mimetype": "text/x-python",
   "name": "python",
   "nbconvert_exporter": "python",
   "pygments_lexer": "ipython3",
   "version": "3.10.16"
  }
 },
 "nbformat": 4,
 "nbformat_minor": 4
}
