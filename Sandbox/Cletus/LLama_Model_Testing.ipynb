{
 "cells": [
  {
   "cell_type": "code",
   "execution_count": 4,
   "metadata": {},
   "outputs": [
    {
     "name": "stdout",
     "output_type": "stream",
     "text": [
      "True\n",
      "1\n",
      "NVIDIA RTX 5000 Ada Generation\n"
     ]
    }
   ],
   "source": [
    "import torch\n",
    "print(torch.cuda.is_available())  # Should return True\n",
    "print(torch.cuda.device_count())  # Should return the number of GPUs\n",
    "print(torch.cuda.get_device_name(0))  # Should show the GPU model"
   ]
  },
  {
   "cell_type": "code",
   "execution_count": 6,
   "metadata": {},
   "outputs": [
    {
     "data": {
      "text/plain": [
       "True"
      ]
     },
     "execution_count": 6,
     "metadata": {},
     "output_type": "execute_result"
    }
   ],
   "source": [
    "import transformers\n",
    "import torch\n",
    "import os\n",
    "import json\n",
    "from huggingface_hub import login\n",
    "from transformers import AutoTokenizer, AutoModelForCausalLM\n",
    "import logging\n",
    "import time\n",
    "from datetime import timedelta\n",
    "import pandas as pd\n",
    "from dotenv import load_dotenv\n",
    "\n",
    "\n",
    "# Load environment variables\n",
    "load_dotenv(dotenv_path=\"../../.env\") # path is relative to this script, adjust as needed"
   ]
  },
  {
   "cell_type": "code",
   "execution_count": 7,
   "metadata": {},
   "outputs": [
    {
     "name": "stdout",
     "output_type": "stream",
     "text": [
      "HF_HOME: D:/huggingface_cache\n",
      "TRANSFORMERS_CACHE: D:/huggingface_cache\n",
      "HUGGINGFACE_HUB_CACHE: D:/huggingface_cache\n"
     ]
    }
   ],
   "source": [
    "# setting huggingface token\n",
    "login(token=os.getenv(\"HUGGINGFACE_TOKEN\"))\n",
    "\n",
    "os.environ[\"HF_HOME\"] = \"D:/huggingface_cache\" \n",
    "os.environ[\"TRANSFORMERS_CACHE\"] = \"D:/huggingface_cache\"\n",
    "os.environ[\"HUGGINGFACE_HUB_CACHE\"] = \"D:/huggingface_cache\"\n",
    "\n",
    "print(\"HF_HOME:\", os.getenv(\"HF_HOME\"))\n",
    "print(\"TRANSFORMERS_CACHE:\", os.getenv(\"TRANSFORMERS_CACHE\"))\n",
    "print(\"HUGGINGFACE_HUB_CACHE:\", os.getenv(\"HUGGINGFACE_HUB_CACHE\"))\n",
    "\n",
    "transformers.utils.hub.TRANSFORMERS_CACHE = \"D:/huggingface_cache\""
   ]
  },
  {
   "cell_type": "code",
   "execution_count": 8,
   "metadata": {},
   "outputs": [
    {
     "data": {
      "application/vnd.jupyter.widget-view+json": {
       "model_id": "109b322c3ddf44f5a3dcc5610051b3c2",
       "version_major": 2,
       "version_minor": 0
      },
      "text/plain": [
       "Downloading shards:   0%|          | 0/4 [00:00<?, ?it/s]"
      ]
     },
     "metadata": {},
     "output_type": "display_data"
    },
    {
     "data": {
      "application/vnd.jupyter.widget-view+json": {
       "model_id": "bd1b4422f8ad4670ba0cfdc629295cb7",
       "version_major": 2,
       "version_minor": 0
      },
      "text/plain": [
       "Loading checkpoint shards:   0%|          | 0/4 [00:00<?, ?it/s]"
      ]
     },
     "metadata": {},
     "output_type": "display_data"
    }
   ],
   "source": [
    "model_name = \"meta-llama/Meta-Llama-3-8B\"\n",
    "\n",
    "tokenizer = AutoTokenizer.from_pretrained(model_name)\n",
    "model = AutoModelForCausalLM.from_pretrained(model_name, torch_dtype=torch.float16, device_map=\"cuda\")\n"
   ]
  },
  {
   "cell_type": "code",
   "execution_count": 9,
   "metadata": {},
   "outputs": [],
   "source": [
    "chunk_sizes = [128, 256, 512, 1024, 2048]\n",
    "questions_num = 2\n",
    "max_token_list = [128, 256, 512, 1024, 2048]\n"
   ]
  },
  {
   "cell_type": "code",
   "execution_count": 10,
   "metadata": {},
   "outputs": [],
   "source": [
    "results_df = pd.DataFrame(columns=[\n",
    "    \"chunk_size\", \"questions_num\", \"qa_count_mismatch\", \"total_questions\", \"token_Size\",\n",
    "    \"total_chunks\", \"success_count\", \"fail_count\",\n",
    "    \"elapsed_time\"\n",
    "])"
   ]
  },
  {
   "cell_type": "code",
   "execution_count": 11,
   "metadata": {},
   "outputs": [],
   "source": [
    "# Checkpointing to avoid re-running completed configurations\n",
    "checkpoint_path = \"checkpoint.csv\"\n",
    "\n",
    "# Load existing checkpoint if it exists\n",
    "if os.path.exists(checkpoint_path):\n",
    "    completed_runs = pd.read_csv(checkpoint_path)\n",
    "    completed_set = set(zip(\n",
    "        completed_runs[\"chunk_size\"].astype(int),\n",
    "        completed_runs[\"max_tokens\"].astype(int)\n",
    "    ))\n",
    "else:\n",
    "    completed_set = set()\n",
    "    pd.DataFrame(columns=[\"chunk_size\", \"max_tokens\"]).to_csv(checkpoint_path, index=False)\n"
   ]
  },
  {
   "cell_type": "markdown",
   "metadata": {},
   "source": [
    "# Convert logs to Panda\n"
   ]
  },
  {
   "cell_type": "code",
   "execution_count": 12,
   "metadata": {},
   "outputs": [
    {
     "name": "stdout",
     "output_type": "stream",
     "text": [
      "Output already exists: ../Yaman/Generated_Results/LLAMA3_1/generation_log_128_Token_128_Q2.json, skipping.\n",
      "Output already exists: ../Yaman/Generated_Results/LLAMA3_1/generation_log_128_Token_256_Q2.json, skipping.\n",
      "Output already exists: ../Yaman/Generated_Results/LLAMA3_1/generation_log_128_Token_512_Q2.json, skipping.\n",
      "Output already exists: ../Yaman/Generated_Results/LLAMA3_1/generation_log_128_Token_1024_Q2.json, skipping.\n",
      "Output already exists: ../Yaman/Generated_Results/LLAMA3_1/generation_log_128_Token_2048_Q2.json, skipping.\n",
      "Output already exists: ../Yaman/Generated_Results/LLAMA3_1/generation_log_256_Token_128_Q2.json, skipping.\n",
      "Output already exists: ../Yaman/Generated_Results/LLAMA3_1/generation_log_256_Token_256_Q2.json, skipping.\n",
      "Output already exists: ../Yaman/Generated_Results/LLAMA3_1/generation_log_256_Token_512_Q2.json, skipping.\n",
      "Output already exists: ../Yaman/Generated_Results/LLAMA3_1/generation_log_256_Token_1024_Q2.json, skipping.\n",
      "Output already exists: ../Yaman/Generated_Results/LLAMA3_1/generation_log_256_Token_2048_Q2.json, skipping.\n",
      "Output already exists: ../Yaman/Generated_Results/LLAMA3_1/generation_log_512_Token_128_Q2.json, skipping.\n",
      "Output already exists: ../Yaman/Generated_Results/LLAMA3_1/generation_log_512_Token_256_Q2.json, skipping.\n",
      "Output already exists: ../Yaman/Generated_Results/LLAMA3_1/generation_log_512_Token_512_Q2.json, skipping.\n",
      "Output already exists: ../Yaman/Generated_Results/LLAMA3_1/generation_log_512_Token_1024_Q2.json, skipping.\n",
      "Output already exists: ../Yaman/Generated_Results/LLAMA3_1/generation_log_512_Token_2048_Q2.json, skipping.\n",
      "Output already exists: ../Yaman/Generated_Results/LLAMA3_1/generation_log_1024_Token_128_Q2.json, skipping.\n",
      "Output already exists: ../Yaman/Generated_Results/LLAMA3_1/generation_log_1024_Token_256_Q2.json, skipping.\n",
      "Output already exists: ../Yaman/Generated_Results/LLAMA3_1/generation_log_1024_Token_512_Q2.json, skipping.\n",
      "Output already exists: ../Yaman/Generated_Results/LLAMA3_1/generation_log_1024_Token_1024_Q2.json, skipping.\n",
      "Output already exists: ../Yaman/Generated_Results/LLAMA3_1/generation_log_1024_Token_2048_Q2.json, skipping.\n",
      "Missing input file: ../Yaman/Generate_Paragraphs/Results/extracted_chunks_2048_overlap.json, skipping.\n"
     ]
    }
   ],
   "source": [
    "device = torch.device(\"cuda\" if torch.cuda.is_available() else \"cpu\")\n",
    "model.to(device)\n",
    "\n",
    "\n",
    "for chunk_size in chunk_sizes:\n",
    "    json_file_path = f\"../Yaman/Generate_Paragraphs/Results/extracted_chunks_{chunk_size}_overlap.json\"\n",
    "\n",
    "    if not os.path.exists(json_file_path):\n",
    "        print(f\"Missing input file: {json_file_path}, skipping.\")\n",
    "        continue\n",
    "\n",
    "    with open(json_file_path, \"r\", encoding=\"utf-8\") as file:\n",
    "        chunk_data = json.load(file)\n",
    "\n",
    "    for max_tokens in max_token_list:\n",
    "        if (chunk_size, max_tokens) in completed_set:\n",
    "            print(f\"Skipping completed run: Chunk={chunk_size}, Max Tokens={max_tokens}\")\n",
    "            continue\n",
    "\n",
    "        output_file_path = f\"../Yaman/Generated_Results/LLAMA3_1/generation_log_{chunk_size}_Token_{max_tokens}_Q{questions_num}.json\"\n",
    "        if os.path.exists(output_file_path):\n",
    "            print(f\"Output already exists: {output_file_path}, skipping.\")\n",
    "            continue\n",
    "\n",
    "        print(f\"Starting new run: Chunk={chunk_size}, Max Tokens={max_tokens}\")\n",
    "\n",
    "        qa_results = {}\n",
    "        total_chunks = 0\n",
    "        success_count = 0\n",
    "        fail_count = 0\n",
    "        total_questions = 0\n",
    "        qa_count_mismatch = 0\n",
    "\n",
    "        start_time = time.time()\n",
    "\n",
    "        for doc_name, chunks in chunk_data.items():\n",
    "            qa_results[doc_name] = []\n",
    "\n",
    "            for chunk in chunks:\n",
    "                total_chunks += 1\n",
    "\n",
    "                prompt = f\"\"\"\n",
    "Generate {questions_num} question-answer pairs based on the following text segment. \n",
    "Return the result in valid JSON format as a list of objects.\n",
    "\n",
    "Text Segment:\n",
    "\n",
    "{chunk}\n",
    "\n",
    "Response Format:\n",
    "[\n",
    "    {{\"question\": \"generated question\", \"answer\": \"generated Answer\"}},\n",
    "]\n",
    "\n",
    "Question answers should be at least 250 words long.\n",
    "\n",
    "Do NOT include any explanation or preamble before or after the JSON output.\n",
    "Return ONLY valid JSON output.\n",
    "\n",
    "Answer:\n",
    "                \"\"\"\n",
    "\n",
    "                inputs = tokenizer(prompt, return_tensors=\"pt\").to(device)\n",
    "\n",
    "                try:\n",
    "                    max_context = model.config.max_position_embeddings\n",
    "                    input_len = inputs['input_ids'].shape[1]\n",
    "                    if input_len + max_tokens > max_context:\n",
    "                        print(f\"Skipping chunk (too long): input_len={input_len}\")\n",
    "                        continue\n",
    "\n",
    "                    with torch.no_grad():\n",
    "                        output_tokens = model.generate(**inputs, max_new_tokens=max_tokens)\n",
    "\n",
    "                    generated_tokens = output_tokens[0][len(inputs[\"input_ids\"][0]):]\n",
    "                    generated_text = tokenizer.decode(generated_tokens, skip_special_tokens=True)\n",
    "\n",
    "                    try:\n",
    "                        qa_pairs = json.loads(generated_text)\n",
    "                        if isinstance(qa_pairs, list):\n",
    "                            qa_results[doc_name].append({\n",
    "                                \"chunk\": chunk,\n",
    "                                \"qa_pairs\": qa_pairs\n",
    "                            })\n",
    "                            success_count += 1\n",
    "                            total_questions += len(qa_pairs)\n",
    "\n",
    "                            if len(qa_pairs) != questions_num:\n",
    "                                qa_count_mismatch += 1\n",
    "                        else:\n",
    "                            fail_count += 1\n",
    "                    except json.JSONDecodeError:\n",
    "                        fail_count += 1\n",
    "\n",
    "                except Exception as e:\n",
    "                    print(f\"Error generating for chunk: {e}\")\n",
    "                    fail_count += 1\n",
    "\n",
    "        # Save QA Output\n",
    "        os.makedirs(os.path.dirname(output_file_path), exist_ok=True)\n",
    "        with open(output_file_path, \"w\", encoding=\"utf-8\") as out_file:\n",
    "            json.dump(qa_results, out_file, indent=4, ensure_ascii=False)\n",
    "\n",
    "        end_time = time.time()\n",
    "        elapsed_time = timedelta(seconds=end_time - start_time)\n",
    "\n",
    "        # Save Results and Checkpoint\n",
    "        results_df.loc[len(results_df)] = [\n",
    "            chunk_size, questions_num, qa_count_mismatch, total_questions,\n",
    "            max_tokens, total_chunks, success_count, fail_count, str(elapsed_time)\n",
    "        ]\n",
    "        \n",
    "        csv_output_path = \"../Yaman/Generated_Results/LLAMA3_1/results_log.csv\"\n",
    "        results_df.to_csv(csv_output_path, index=False)\n",
    "\n",
    "        pd.DataFrame([[chunk_size, max_tokens]], columns=[\"chunk_size\", \"max_tokens\"]) \\\n",
    "            .to_csv(checkpoint_path, mode='a', header=False, index=False)\n",
    "\n",
    "        print(f\"✅ Saved: {output_file_path} | Time: {elapsed_time}\")"
   ]
  },
  {
   "cell_type": "code",
   "execution_count": null,
   "metadata": {},
   "outputs": [],
   "source": []
  },
  {
   "cell_type": "markdown",
   "metadata": {},
   "source": [
    "# Power Analysis"
   ]
  },
  {
   "cell_type": "markdown",
   "metadata": {},
   "source": []
  }
 ],
 "metadata": {
  "kernelspec": {
   "display_name": "llm-forge",
   "language": "python",
   "name": "python3"
  },
  "language_info": {
   "codemirror_mode": {
    "name": "ipython",
    "version": 3
   },
   "file_extension": ".py",
   "mimetype": "text/x-python",
   "name": "python",
   "nbconvert_exporter": "python",
   "pygments_lexer": "ipython3",
   "version": "3.10.16"
  }
 },
 "nbformat": 4,
 "nbformat_minor": 4
}
